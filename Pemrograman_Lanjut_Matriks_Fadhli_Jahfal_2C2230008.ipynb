{
  "nbformat": 4,
  "nbformat_minor": 0,
  "metadata": {
    "colab": {
      "provenance": [],
      "authorship_tag": "ABX9TyOT2d9PXUGYTp16jDv+hk6W",
      "include_colab_link": true
    },
    "kernelspec": {
      "name": "python3",
      "display_name": "Python 3"
    },
    "language_info": {
      "name": "python"
    }
  },
  "cells": [
    {
      "cell_type": "markdown",
      "metadata": {
        "id": "view-in-github",
        "colab_type": "text"
      },
      "source": [
        "<a href=\"https://colab.research.google.com/github/fadhlijahfal1/SD2104-Pemrograman-Lanjut-/blob/main/Pemrograman_Lanjut_Matriks_Fadhli_Jahfal_2C2230008.ipynb\" target=\"_parent\"><img src=\"https://colab.research.google.com/assets/colab-badge.svg\" alt=\"Open In Colab\"/></a>"
      ]
    },
    {
      "cell_type": "markdown",
      "source": [
        "**Soal Latihan 1**"
      ],
      "metadata": {
        "id": "Lz-xH3zGfqey"
      }
    },
    {
      "cell_type": "code",
      "source": [
        "def input_matriks():\n",
        "    baris = int(input(\"Jumlah baris: \"))\n",
        "    kolom = int(input(\"Jumlah kolom: \"))\n",
        "    return [[int(input(f\"Elemen [{i+1}][{j+1}]: \")) for j in range(kolom)] for i in range(baris)]\n",
        "\n",
        "def cetak_matriks(matriks):\n",
        "    for baris in matriks:\n",
        "        print(*baris)\n",
        "\n",
        "def kalikan_matriks(matriks, x):\n",
        "    return [[elemen * x for elemen in baris] for baris in matriks]\n",
        "\n",
        "# Program utama\n",
        "matriks = input_matriks()\n",
        "x = int(input(\"Masukkan pengali: \"))\n",
        "\n",
        "print(\"\\nMatriks Asli:\")\n",
        "cetak_matriks(matriks)\n",
        "\n",
        "print(\"\\nMatriks Hasil:\")\n",
        "cetak_matriks(kalikan_matriks(matriks, x))"
      ],
      "metadata": {
        "colab": {
          "base_uri": "https://localhost:8080/"
        },
        "id": "SxTPDXFhftKq",
        "outputId": "4d1f5d9c-6ce7-4f7e-b900-d3108885c6c8"
      },
      "execution_count": 3,
      "outputs": [
        {
          "output_type": "stream",
          "name": "stdout",
          "text": [
            "Jumlah baris: 3\n",
            "Jumlah kolom: 3\n",
            "Elemen [1][1]: 0\n",
            "Elemen [1][2]: 0\n",
            "Elemen [1][3]: 0\n",
            "Elemen [2][1]: 1\n",
            "Elemen [2][2]: 4\n",
            "Elemen [2][3]: 6\n",
            "Elemen [3][1]: 5\n",
            "Elemen [3][2]: 2\n",
            "Elemen [3][3]: 4\n",
            "Masukkan pengali: 2\n",
            "\n",
            "Matriks Asli:\n",
            "0 0 0\n",
            "1 4 6\n",
            "5 2 4\n",
            "\n",
            "Matriks Hasil:\n",
            "0 0 0\n",
            "2 8 12\n",
            "10 4 8\n"
          ]
        }
      ]
    },
    {
      "cell_type": "markdown",
      "source": [
        "**Soal Latihan 2**"
      ],
      "metadata": {
        "id": "gjsCkLUneeyS"
      }
    },
    {
      "cell_type": "code",
      "execution_count": 2,
      "metadata": {
        "colab": {
          "base_uri": "https://localhost:8080/"
        },
        "id": "nnm0OHmXcj5d",
        "outputId": "35178961-8459-455a-b60a-c6e19921cc92"
      },
      "outputs": [
        {
          "output_type": "stream",
          "name": "stdout",
          "text": [
            "Matriks M:\n",
            "[1, 2, 3]\n",
            "[4, 5, 6]\n",
            "[7, 8, 9]\n",
            "\n",
            "Matriks Transpose (MT):\n",
            "[1, 4, 7]\n",
            "[2, 5, 8]\n",
            "[3, 6, 9]\n"
          ]
        }
      ],
      "source": [
        "# Definisikan matriks M sebagai contoh\n",
        "M = [\n",
        "    [1, 2, 3],\n",
        "    [4, 5, 6],\n",
        "    [7, 8, 9]\n",
        "]\n",
        "\n",
        "# Ukuran asli matriks M\n",
        "Nbrs = len(M)  # Jumlah baris\n",
        "Nkol = len(M[0])  # Jumlah kolom\n",
        "\n",
        "# Menentukan ukuran transpose\n",
        "NBrst = Nkol   # Jumlah baris transpose = jumlah kolom M\n",
        "Nkolt = Nbrs   # Jumlah kolom transpose = jumlah baris M\n",
        "\n",
        "# Membuat matriks transpose kosong\n",
        "MT = [[0 for j in range(Nkolt)] for i in range(NBrst)]\n",
        "\n",
        "# Melakukan proses transpose\n",
        "for i in range(NBrst):\n",
        "    for j in range(Nkolt):\n",
        "        MT[i][j] = M[j][i]\n",
        "\n",
        "# Cetak hasil\n",
        "print(\"Matriks M:\")\n",
        "for row in M:\n",
        "    print(row)\n",
        "\n",
        "print(\"\\nMatriks Transpose (MT):\")\n",
        "for row in MT:\n",
        "    print(row)"
      ]
    }
  ]
}