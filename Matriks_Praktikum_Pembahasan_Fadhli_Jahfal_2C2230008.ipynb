{
  "nbformat": 4,
  "nbformat_minor": 0,
  "metadata": {
    "colab": {
      "provenance": [],
      "include_colab_link": true
    },
    "kernelspec": {
      "name": "python3",
      "display_name": "Python 3"
    },
    "language_info": {
      "name": "python"
    }
  },
  "cells": [
    {
      "cell_type": "markdown",
      "metadata": {
        "id": "view-in-github",
        "colab_type": "text"
      },
      "source": [
        "<a href=\"https://colab.research.google.com/github/fadhlijahfal1/SD2104-Pemrograman-Lanjut-/blob/main/Matriks_Praktikum_Pembahasan_Fadhli_Jahfal_2C2230008.ipynb\" target=\"_parent\"><img src=\"https://colab.research.google.com/assets/colab-badge.svg\" alt=\"Open In Colab\"/></a>"
      ]
    },
    {
      "cell_type": "markdown",
      "source": [
        "#**🖥️👩🏻‍💻PRAKTIKUM PEMROGRAMAN LANJUT🔥**\n",
        "##**Pertemuan (9) Matriks - Senin, 09 Desember 2024**\n",
        "\n",
        "👤 Nama: FADHLI JAHFAL AUFA MAULANA / NRP: 2C2230008 / Kelas: III/A Sains Data\n",
        "\n",
        "💬Deskripsi Pembahasan Materi Matriks:\n",
        "\n",
        "- Matriks dengan List\n",
        "- Numpy\n",
        "\n",
        "\n"
      ],
      "metadata": {
        "id": "_bN6_LxQCJZT"
      }
    },
    {
      "cell_type": "markdown",
      "source": [
        "#🤸🏻‍♀️ EKSPLORASI PRIBADI DI KELAS ✨"
      ],
      "metadata": {
        "id": "N0U2Qjks8P9F"
      }
    },
    {
      "cell_type": "code",
      "source": [
        "n = 2\n",
        "m = 2\n",
        "for i in range (n):\n",
        "  for j in range (m):\n",
        "    print(A[i][j], end=\" \")\n",
        "  print(\" \")"
      ],
      "metadata": {
        "id": "LuGQm2THgc2y",
        "outputId": "265abe42-7977-4f91-ad7c-50f4ef6eae67",
        "colab": {
          "base_uri": "https://localhost:8080/"
        }
      },
      "execution_count": null,
      "outputs": [
        {
          "output_type": "stream",
          "name": "stdout",
          "text": [
            "1 2  \n",
            "3 4  \n"
          ]
        }
      ]
    },
    {
      "cell_type": "code",
      "source": [
        "import numpy as np\n",
        "\n",
        "x1 = np.array([[2,3,4], [2,5,6], [6,7,8]])\n",
        "x1\n",
        "\n",
        "\n",
        "x2 = np.dot(x1, x1)\n",
        "x2"
      ],
      "metadata": {
        "colab": {
          "base_uri": "https://localhost:8080/"
        },
        "id": "5i8HkDHUizlq",
        "outputId": "3c4bdf6f-2402-4317-aaaf-2b9ee430ef27"
      },
      "execution_count": null,
      "outputs": [
        {
          "output_type": "execute_result",
          "data": {
            "text/plain": [
              "array([[ 34,  49,  58],\n",
              "       [ 50,  73,  86],\n",
              "       [ 74, 109, 130]])"
            ]
          },
          "metadata": {},
          "execution_count": 4
        }
      ]
    },
    {
      "cell_type": "markdown",
      "source": [
        "#🧠 LATIHAN SOAL DI KELAS ⏱️"
      ],
      "metadata": {
        "id": "KEGjH0_P9D1-"
      }
    },
    {
      "cell_type": "markdown",
      "source": [
        "**1. Segitiga Pascal**"
      ],
      "metadata": {
        "id": "zJVGsdVblG5r"
      }
    },
    {
      "cell_type": "code",
      "source": [
        "rows = 5\n",
        "\n",
        "matrix = [[0] * rows for _ in range(rows)]\n",
        "matrix[0][0] = 1\n",
        "for i in range(1, rows):\n",
        "    for j in range(i + 1):\n",
        "        if j == 0 or j == i:\n",
        "            matrix[i][j] = 1\n",
        "        else:\n",
        "            matrix[i][j] = matrix[i - 1][j - 1] + matrix[i - 1][j]\n",
        "\n",
        "for i in range(rows):\n",
        "    #Spasi awal, menyesuaikan jumlah angka di setiap baris\n",
        "    print(\"\" *(rows - i -1), end=\" \")\n",
        "    for j in range(i + 1):\n",
        "        print(str(matrix[i][j]).ljust(3), end=\"\") # ljust untuk rata kiri\n",
        "    print()"
      ],
      "metadata": {
        "id": "_1n-w2n5nBj8",
        "outputId": "c94a46d5-7d28-4394-f56c-4719f041e2cc",
        "colab": {
          "base_uri": "https://localhost:8080/"
        }
      },
      "execution_count": null,
      "outputs": [
        {
          "output_type": "stream",
          "name": "stdout",
          "text": [
            " 1  \n",
            " 1  1  \n",
            " 1  2  1  \n",
            " 1  3  3  1  \n",
            " 1  4  6  4  1  \n"
          ]
        }
      ]
    },
    {
      "cell_type": "markdown",
      "source": [
        "**2. Linear Algebra**\n",
        "\n",
        "Menentukan Determinan dari Matriks\n",
        "A = [1,2]\n",
        "    [3,4]\n",
        "\n",
        "B = [-1,3,0]\n",
        "    [2,1,-5]\n",
        "    [1,4,2]"
      ],
      "metadata": {
        "id": "uypxXOUHonKU"
      }
    },
    {
      "cell_type": "code",
      "source": [
        "import numpy as np\n",
        "\n",
        "# Matriks A\n",
        "A = np.array([[1, 2],\n",
        "              [3, 4]])\n",
        "\n",
        "det_A = np.linalg.det(A)\n",
        "print(f\"Determinan Matriks A: {det_A}\")\n",
        "\n",
        "\n",
        "# Matriks B\n",
        "B = np.array([[-1, 3, 0],\n",
        "              [2, 1, -5],\n",
        "              [1, 4, -2]])\n",
        "\n",
        "det_B = np.linalg.det(B)\n",
        "print(f\"Determinan Matriks B: {det_B}\")"
      ],
      "metadata": {
        "id": "Cyr2K6Ato2O0",
        "outputId": "2d383ed6-3b6b-4313-d6d7-dedda35e9f34",
        "colab": {
          "base_uri": "https://localhost:8080/"
        }
      },
      "execution_count": null,
      "outputs": [
        {
          "output_type": "stream",
          "name": "stdout",
          "text": [
            "Determinan Matriks A: -2.0000000000000004\n",
            "Determinan Matriks B: -21.00000000000001\n"
          ]
        }
      ]
    },
    {
      "cell_type": "markdown",
      "source": [
        "**3. Transpose Matriks**\n",
        "\n",
        "A = [1,3,7,2]\n",
        "    [5,8,-9,0]\n",
        "    [6,-7,11,12]"
      ],
      "metadata": {
        "id": "ppclRUMkpjqF"
      }
    },
    {
      "cell_type": "code",
      "source": [
        "# Definisikan matriks M sebagai contoh\n",
        "M = [\n",
        "    [1, 3,  7,  2],\n",
        "    [5, 8, -9,  0],\n",
        "    [6, -7, 11,12]\n",
        "]\n",
        "\n",
        "# Ukuran asli matriks M\n",
        "Nbrs = len(M)  # Jumlah baris\n",
        "Nkol = len(M[0])  # Jumlah kolom\n",
        "\n",
        "# Menentukan ukuran transpose\n",
        "NBrst = Nkol   # Jumlah baris transpose = jumlah kolom M\n",
        "Nkolt = Nbrs   # Jumlah kolom transpose = jumlah baris M\n",
        "\n",
        "# Membuat matriks transpose kosong\n",
        "MT = [[0 for j in range(Nkolt)] for i in range(NBrst)]\n",
        "\n",
        "# Melakukan proses transpose\n",
        "for i in range(NBrst):\n",
        "    for j in range(Nkolt):\n",
        "        MT[i][j] = M[j][i]\n",
        "\n",
        "# Cetak hasil\n",
        "print(\"Matriks M:\")\n",
        "for row in M:\n",
        "    print(row)\n",
        "\n",
        "print(\"\\nMatriks Transpose (MT):\")\n",
        "for row in MT:\n",
        "    print(row)"
      ],
      "metadata": {
        "id": "4v1nhh5iqAD8",
        "outputId": "3ea5f81c-6f18-4ded-fcad-91ea52c50097",
        "colab": {
          "base_uri": "https://localhost:8080/"
        }
      },
      "execution_count": null,
      "outputs": [
        {
          "output_type": "stream",
          "name": "stdout",
          "text": [
            "Matriks M:\n",
            "[1, 3, 7, 2]\n",
            "[5, 8, -9, 0]\n",
            "[6, -7, 11, 12]\n",
            "\n",
            "Matriks Transpose (MT):\n",
            "[1, 5, 6]\n",
            "[3, 8, -7]\n",
            "[7, -9, 11]\n",
            "[2, 0, 12]\n"
          ]
        }
      ]
    },
    {
      "cell_type": "markdown",
      "source": [
        "#🏆 POST TEST 🎯"
      ],
      "metadata": {
        "id": "J_75vTSXKFGE"
      }
    },
    {
      "cell_type": "markdown",
      "source": [
        "📌Catatan:\n",
        "  - Notebook python ini dibuat untuk memudahkan temen-temen belajar ngoding dan pengumpulan tugas.\n",
        "  - Silakan download notebook ini lalu upload di Google Collab milik kalian agar format `pertemuan`, `topik pertemuan`,\n",
        "`tanggal`, `deskripsi pembahasan materi`, `baris coding` dan `interpretasi` bisa disesuaikan dengan kebutuhan teman-teman.\n",
        "\n",
        "  - Interpretasi coding dan hasil dimaksudkan agar teman-teman semakin memahami apa yang dipelajari.\n",
        "\n",
        "  - Deskripsi pembahasan materi dimaksudkan agar teman-teman semakin memahami apa fokus yang dipelajari.\n",
        "\n",
        "  - Tulisan di setiap sebelum baris code disebut `markdown`. Ada beberapa jenis simbol yang memudahkan kepenulisan `markdown` kita, yaitu seperti : untuk mengatur ukuran tulisan biasanya tulisan pada header menggunakan ini`#`, `##`, `###`, untuk membuat pointer menggunakan ini `-`, untuk membuat tulisan ter-highlight menggunakan ini *` `* , untuk short-cut membuat tulisan jadi **bold** gunakan ini `** **`, dan untuk *tulisan miring* gunakan ini `* *` .\n",
        "\n",
        "  - Semangat belajar! 🌟✨\n",
        "\n",
        "©️ LABORATORIUM SAINS DATA 2024"
      ],
      "metadata": {
        "id": "D-tRQnbQK69l"
      }
    }
  ]
}