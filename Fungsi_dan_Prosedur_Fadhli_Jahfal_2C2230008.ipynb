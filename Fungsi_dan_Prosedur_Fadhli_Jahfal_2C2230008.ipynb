{
  "nbformat": 4,
  "nbformat_minor": 0,
  "metadata": {
    "colab": {
      "provenance": [],
      "include_colab_link": true
    },
    "kernelspec": {
      "name": "python3",
      "display_name": "Python 3"
    },
    "language_info": {
      "name": "python"
    }
  },
  "cells": [
    {
      "cell_type": "markdown",
      "metadata": {
        "id": "view-in-github",
        "colab_type": "text"
      },
      "source": [
        "<a href=\"https://colab.research.google.com/github/fadhlijahfal1/SD2104-Pemrograman-Lanjut-/blob/main/Fungsi_dan_Prosedur_Fadhli_Jahfal_2C2230008.ipynb\" target=\"_parent\"><img src=\"https://colab.research.google.com/assets/colab-badge.svg\" alt=\"Open In Colab\"/></a>"
      ]
    },
    {
      "cell_type": "markdown",
      "source": [
        "#**🖥️👩🏻‍💻PRAKTIKUM PEMROGRAMAN LANJUT🔥**\n",
        "##**Pertemuan (10) Fungsi dan Prosedur - Senin, 16 Desember 2024**\n",
        "\n",
        "👤 Nama: FADHLI JAHFAL AUFA MAULANA / NRP: 2C2230008 / Kelas: III/A Sains Data\n",
        "\n",
        "\n",
        "\n"
      ],
      "metadata": {
        "id": "_bN6_LxQCJZT"
      }
    },
    {
      "cell_type": "markdown",
      "source": [
        "#🤸🏻‍♀️ EKSPLORASI PRIBADI DI KELAS ✨"
      ],
      "metadata": {
        "id": "N0U2Qjks8P9F"
      }
    },
    {
      "cell_type": "markdown",
      "source": [
        "**Fungsi** adalah bagian dari program yang mampu mengerjakan tugas atau operasi tertentu di luar program utama. Fungsi akan mengembalikan nilai sesuai algoritma yang diberikan.  "
      ],
      "metadata": {
        "id": "HA9n6NGd0RyR"
      }
    },
    {
      "cell_type": "markdown",
      "source": [
        "**Contoh Fungsi Kuadrat**"
      ],
      "metadata": {
        "id": "pvOX10Sn0eoK"
      }
    },
    {
      "cell_type": "code",
      "execution_count": null,
      "metadata": {
        "id": "itmMcxv88OIm"
      },
      "outputs": [],
      "source": [
        "def kuadrat(x):\n",
        "    x2 = x * x\n",
        "    return x2\n",
        "\n",
        "n = int(input())\n",
        "n2 = kuadrat(n)\n",
        "print(n2)\n"
      ]
    },
    {
      "cell_type": "markdown",
      "source": [
        "**Menghitung Nilai A**"
      ],
      "metadata": {
        "id": "u8uhe4Rq1HNw"
      }
    },
    {
      "cell_type": "code",
      "source": [
        "def pangkat(a, b):  # Asumsi b >= 0\n",
        "    c = 1\n",
        "    for i in range(b):\n",
        "        c *= a\n",
        "    return c\n",
        "\n",
        "print(pangkat(2, 3))\n",
        "print(pangkat(3, 4))"
      ],
      "metadata": {
        "colab": {
          "base_uri": "https://localhost:8080/"
        },
        "id": "dAlCDzHP1F_I",
        "outputId": "8662f7db-dfad-4fad-81ce-061c5508ccfb"
      },
      "execution_count": null,
      "outputs": [
        {
          "output_type": "stream",
          "name": "stdout",
          "text": [
            "8\n",
            "81\n"
          ]
        }
      ]
    },
    {
      "cell_type": "markdown",
      "source": [
        "**Prosedur** adalah mirip dengan fungsi, tetap tidak memiliki nilai kembalian (return)"
      ],
      "metadata": {
        "id": "P_pedK1n1YLw"
      }
    },
    {
      "cell_type": "code",
      "source": [
        "def tulis_menu(pil1, pil2, pil3):\n",
        "    print(\"Menu:\")\n",
        "    print(\"1. \" + str(pil1))\n",
        "    print(\"2. \" + str(pil2))\n",
        "    print(\"3. \" + str(pil3))\n",
        "    print(\"Masukkan pilihan: \")\n",
        "\n",
        "tulis_menu(\"Burger\", \"Ayam Geprek\", \"Mie Instan\")\n",
        "pilihan_makanan = int(input())\n",
        "\n",
        "tulis_menu(\"Jus Alpukat\", \"Thai Tea\", \"Teh Tarik\")\n",
        "pilihan_minuman = int(input())\n",
        "\n",
        "tulis_menu(\"Kentang\", \"Krupuk\", \"Abon\")\n",
        "pilihan_tambahan = int(input())\n"
      ],
      "metadata": {
        "colab": {
          "base_uri": "https://localhost:8080/"
        },
        "id": "l36y3M-T2DDv",
        "outputId": "ccaeec55-1384-48e8-ea06-600321de647a"
      },
      "execution_count": null,
      "outputs": [
        {
          "name": "stdout",
          "output_type": "stream",
          "text": [
            "Menu:\n",
            "1. Burger\n",
            "2. Ayam Geprek\n",
            "3. Mie Instan\n",
            "Masukkan pilihan: \n",
            "3\n",
            "Menu:\n",
            "1. Jus Alpukat\n",
            "2. Thai Tea\n",
            "3. Teh Tarik\n",
            "Masukkan pilihan: \n",
            "2\n",
            "Menu:\n",
            "1. Kentang\n",
            "2. Krupuk\n",
            "3. Abon\n",
            "Masukkan pilihan: \n",
            "2\n"
          ]
        }
      ]
    },
    {
      "cell_type": "markdown",
      "source": [
        "#🧠 LATIHAN SOAL DI KELAS ⏱️"
      ],
      "metadata": {
        "id": "KEGjH0_P9D1-"
      }
    },
    {
      "cell_type": "markdown",
      "source": [
        "**Fungsi Kuadrat**"
      ],
      "metadata": {
        "id": "DeHP_SnVh5r5"
      }
    },
    {
      "cell_type": "code",
      "source": [
        "def fungsi_kuadrat(x):\n",
        "  y = x**2 - 2*x + 5\n",
        "  return y\n",
        "\n",
        "x = int(input(\"Masukkan Nilai : \"))\n",
        "print(f\"f({x}) = {fungsi_kuadrat(x)}\")"
      ],
      "metadata": {
        "id": "h7si6sBj9Mr4",
        "colab": {
          "base_uri": "https://localhost:8080/"
        },
        "outputId": "9ba0cf9d-a0d0-4b74-df9f-005c1e1986ce"
      },
      "execution_count": null,
      "outputs": [
        {
          "output_type": "stream",
          "name": "stdout",
          "text": [
            "Masukkan Nilai : 3\n",
            "f(3) = 8\n"
          ]
        }
      ]
    },
    {
      "cell_type": "markdown",
      "source": [
        "- Interpretasi coding: Kode ini mendefinisikan sebuah fungsi yang menghitung nilai fungsi kuadrat `y = x² - 2x + 5`. Kemudian, program meminta input dari user, menghitung nilai fungsi kuadrat untuk input tersebut, dan menampilkan hasilnya.\n",
        "\n",
        "\n",
        "\n",
        "- Interpretasi Hasil:\n",
        "Masukkan Nilai : 3\n",
        "f(3) = 8"
      ],
      "metadata": {
        "id": "Wou8YKfJ9lvY"
      }
    },
    {
      "cell_type": "markdown",
      "source": [
        "**Validasi Sandi**"
      ],
      "metadata": {
        "id": "sNxw9ZCilu-r"
      }
    },
    {
      "cell_type": "code",
      "source": [
        "def validasi_sandi(sandi):\n",
        "  if (len(sandi) < 8):\n",
        "    return False\n",
        "\n",
        "  huruf_kecil = False\n",
        "  huruf_besar = False\n",
        "  angka = False\n",
        "\n",
        "  for karakter in sandi:\n",
        "    if karakter.islower():\n",
        "      huruf_kecil = True\n",
        "    elif karakter.isupper():\n",
        "      huruf_besar = True\n",
        "    elif karakter.isdigit():\n",
        "      angka = True\n",
        "  return huruf_kecil and huruf_besar and angka\n",
        "\n",
        "sandi = input(\"Masukkan Sandi: \")\n",
        "if validasi_sandi(sandi):\n",
        "  print(\"Sandi Valid\")\n",
        "else:\n",
        "  print(\"Sandi Tidak Valid\")"
      ],
      "metadata": {
        "id": "9uWMEZpP9hlB",
        "colab": {
          "base_uri": "https://localhost:8080/"
        },
        "outputId": "bc2a9852-94e1-419d-e9df-ed1140c50191"
      },
      "execution_count": null,
      "outputs": [
        {
          "output_type": "stream",
          "name": "stdout",
          "text": [
            "Masukkan Sandi: Ikopin1402\n",
            "Sandi Valid\n"
          ]
        }
      ]
    },
    {
      "cell_type": "markdown",
      "source": [
        "- Interpretasi coding: Kode tersebut memeriksa apakah sandi yang diinputkan oleh pengguna valid berdasarkan kriteria: minimal 8 karakter, mengandung huruf kecil, huruf besar, dan angka. Program akan menampilkan \"Sandi Valid\" jika memenuhi semua kriteria, dan \"Sandi Tidak Valid\" jika tidak.\n",
        "\n",
        "- Interpretasi Hasil:\n",
        "\n",
        "\n",
        "\n",
        "*   Masukkan Sandi : Ikopin1402\n",
        "*   Sandi Valid\n",
        "\n"
      ],
      "metadata": {
        "id": "fM9Fo97_93Ni"
      }
    },
    {
      "cell_type": "markdown",
      "source": [
        "**Determinan Matriks**"
      ],
      "metadata": {
        "id": "cBTDCQeLqOvG"
      }
    },
    {
      "cell_type": "code",
      "source": [
        "def determinan_2x2(matriks):\n",
        "  return matriks[0][0] * matriks[1][1] - matriks[0][1] * matriks[1][0]\n",
        "\n",
        "def program_matriks():\n",
        "  matriks = []\n",
        "  print(\"Masukkan elemen matriks 2x2:\")\n",
        "  for i in range(2):\n",
        "    baris = []\n",
        "    for j in range(2):\n",
        "      elemen = int(input(f\"Masukkan elemen [{i}][{j}]: \"))\n",
        "      baris.append(elemen)\n",
        "    matriks.append(baris)\n",
        "\n",
        "  determinan = determinan_2x2(matriks)\n",
        "\n",
        "  print(\"Matriks:\")\n",
        "  for baris in matriks:\n",
        "    print(baris)\n",
        "  print(\"Determinan =\", determinan)\n",
        "\n",
        "program_matriks()"
      ],
      "metadata": {
        "colab": {
          "base_uri": "https://localhost:8080/"
        },
        "id": "JebC9USWqRpu",
        "outputId": "eb4c15ff-d0f9-4f67-a148-4accbd6b7a92"
      },
      "execution_count": null,
      "outputs": [
        {
          "output_type": "stream",
          "name": "stdout",
          "text": [
            "Masukkan elemen matriks 2x2:\n",
            "Masukkan elemen [0][0]: 2\n",
            "Masukkan elemen [0][1]: 3\n",
            "Masukkan elemen [1][0]: 1\n",
            "Masukkan elemen [1][1]: 4\n",
            "Matriks:\n",
            "[2, 3]\n",
            "[1, 4]\n",
            "Determinan = 5\n"
          ]
        }
      ]
    },
    {
      "cell_type": "markdown",
      "source": [
        "- Interpretasi Coding : Program ini mendefinisikan dua fungsi: determinan_2x2 dan program_matriks. Fungsi determinan_2x2 digunakan untuk menghitung determinan dari matriks 2x2. Fungsi program_matriks digunakan untuk meminta input dari user berupa elemen-elemen matriks 2x2, kemudian memanggil fungsi determinan_2x2 untuk menghitung determinan matriks tersebut, dan terakhir menampilkan matriks beserta determinannya.\n",
        "\n",
        "- Interpretasi Hasil :\n",
        "\n",
        "*   Masukkan elemen matriks 2x2:\n",
        "*   Masukkan elemen [0][0]: 2\n",
        "*   Masukkan elemen [0][1]: 3\n",
        "*   Masukkan elemen [1][0]: 1\n",
        "*   Masukkan elemen [1][1]: 4\n",
        "*   Matriks:\n",
        "*   [2, 3]\n",
        "*   [1, 4]\n",
        "*   Determinan = 5"
      ],
      "metadata": {
        "id": "U_LEB-T1s46O"
      }
    },
    {
      "cell_type": "markdown",
      "source": [
        "📌Catatan:\n",
        "  - Notebook python ini dibuat untuk memudahkan temen-temen belajar ngoding dan pengumpulan tugas.\n",
        "  - Silakan download notebook ini lalu upload di Google Collab milik kalian agar format `pertemuan`, `topik pertemuan`,\n",
        "`tanggal`, `deskripsi pembahasan materi`, `baris coding` dan `interpretasi` bisa disesuaikan dengan kebutuhan teman-teman.\n",
        "\n",
        "  - Interpretasi coding dan hasil dimaksudkan agar teman-teman semakin memahami apa yang dipelajari.\n",
        "\n",
        "  - Deskripsi pembahasan materi dimaksudkan agar teman-teman semakin memahami apa fokus yang dipelajari.\n",
        "\n",
        "  - Tulisan di setiap sebelum baris code disebut `markdown`. Ada beberapa jenis simbol yang memudahkan kepenulisan `markdown` kita, yaitu seperti : untuk mengatur ukuran tulisan biasanya tulisan pada header menggunakan ini`#`, `##`, `###`, untuk membuat pointer menggunakan ini `-`, untuk membuat tulisan ter-highlight menggunakan ini *` `* , untuk short-cut membuat tulisan jadi **bold** gunakan ini `** **`, dan untuk *tulisan miring* gunakan ini `* *` .\n",
        "\n",
        "  - Semangat belajar! 🌟✨\n",
        "\n",
        "©️ LABORATORIUM SAINS DATA 2024"
      ],
      "metadata": {
        "id": "D-tRQnbQK69l"
      }
    }
  ]
}