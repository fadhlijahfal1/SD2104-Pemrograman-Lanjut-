{
  "nbformat": 4,
  "nbformat_minor": 0,
  "metadata": {
    "colab": {
      "provenance": [],
      "include_colab_link": true
    },
    "kernelspec": {
      "name": "python3",
      "display_name": "Python 3"
    },
    "language_info": {
      "name": "python"
    }
  },
  "cells": [
    {
      "cell_type": "markdown",
      "metadata": {
        "id": "view-in-github",
        "colab_type": "text"
      },
      "source": [
        "<a href=\"https://colab.research.google.com/github/fadhlijahfal1/SD2104-Pemrograman-Lanjut-/blob/main/Pengulangan_Fadhli_Jahfal_2C2230008.ipynb\" target=\"_parent\"><img src=\"https://colab.research.google.com/assets/colab-badge.svg\" alt=\"Open In Colab\"/></a>"
      ]
    },
    {
      "cell_type": "markdown",
      "source": [
        "#**🖥️👩🏻‍💻PRAKTIKUM PEMROGRAMAN LANJUT🔥**\n",
        "##**Pertemuan (2) PENGULANGAN (LOOP) - Senin, 21 Oktober 2024**\n",
        "\n",
        "👤 Nama: FADHLI JAHFAL AUFA MAULANA / NRP: 2C2230008 / Kelas: III/A Sains Data\n",
        "\n",
        "💬Deskripsi Pembahasan Materi Pengulangan:\n",
        "\n",
        "1.1.  Pengulangan (LOOP) 🔂\n",
        "- While Loop 🐋\n",
        "\n",
        "- For Loop\n",
        "\n",
        "1.2. Pengulangan Bersarang ( NESTED LOOP) 🔂🐦‍\n",
        "\n",
        "\n"
      ],
      "metadata": {
        "id": "_bN6_LxQCJZT"
      }
    },
    {
      "cell_type": "markdown",
      "source": [
        "#🤸🏻‍♀️ EKSPLORASI PRIBADI DI KELAS ✨"
      ],
      "metadata": {
        "id": "N0U2Qjks8P9F"
      }
    },
    {
      "cell_type": "code",
      "execution_count": null,
      "metadata": {
        "id": "itmMcxv88OIm"
      },
      "outputs": [],
      "source": [
        "#List\n",
        "my_list = [1, 2, 3, 4, 5]\n",
        "my_list[0] = 10 #List dapat diubah\n",
        "print(my_list) #Hasil outout [10, 2, 3, 4, 5]"
      ]
    },
    {
      "cell_type": "code",
      "source": [
        "#Tuple\n",
        "my_tuple = (1, 2, 3, 4, 5)\n",
        "print(my_tuple) #Tuple tidak bisa di ubah urutannya"
      ],
      "metadata": {
        "id": "ccUYiAl2MIMF"
      },
      "execution_count": null,
      "outputs": []
    },
    {
      "cell_type": "markdown",
      "source": [
        "Pengulangan For Loop"
      ],
      "metadata": {
        "id": "ue7ruHYpWRCz"
      }
    },
    {
      "cell_type": "code",
      "source": [
        "#Pengulangan For Loop\n",
        "var_list = [1,2,3,4,5]\n",
        "for i in var_list:\n",
        "  print(\"i = \", i)"
      ],
      "metadata": {
        "id": "Ed6f16H1MfbX"
      },
      "execution_count": null,
      "outputs": []
    },
    {
      "cell_type": "code",
      "source": [
        "huruf = \"Fadhli Jahfal\"\n",
        "for i in huruf:\n",
        "  print(i)"
      ],
      "metadata": {
        "id": "kVpD1gokOJ23"
      },
      "execution_count": null,
      "outputs": []
    },
    {
      "cell_type": "code",
      "source": [
        "for i in range(10): #(0,10,1) ARTINYA (START,STOP,STEP)\n",
        "  print(i)"
      ],
      "metadata": {
        "id": "Q7GeyTIoOY5l"
      },
      "execution_count": null,
      "outputs": []
    },
    {
      "cell_type": "code",
      "source": [
        "#Perulangan dengan range yang benar\n",
        "for i in range(1,10,2):\n",
        "  print(i)"
      ],
      "metadata": {
        "id": "isDGuw7zO08s"
      },
      "execution_count": null,
      "outputs": []
    },
    {
      "cell_type": "code",
      "source": [
        "for i in range (1000):\n",
        "  print(\"Hello World\")"
      ],
      "metadata": {
        "id": "U1e2cEusQCBn"
      },
      "execution_count": null,
      "outputs": []
    },
    {
      "cell_type": "code",
      "source": [
        "for i in range (2, 5, 1):\n",
        "  print(i)"
      ],
      "metadata": {
        "id": "o5ewIG0pQdlm"
      },
      "execution_count": null,
      "outputs": []
    },
    {
      "cell_type": "code",
      "source": [
        "for i in range (7, 2, -1):\n",
        "  print(i)"
      ],
      "metadata": {
        "id": "EjBTYoNdSGRK"
      },
      "execution_count": null,
      "outputs": []
    },
    {
      "cell_type": "code",
      "source": [
        "a = int(input())\n",
        "b = int(input())\n",
        "\n",
        "for i in range (a, b+1):\n",
        "  print(i)"
      ],
      "metadata": {
        "id": "CCFZ285bSr1Q"
      },
      "execution_count": null,
      "outputs": []
    },
    {
      "cell_type": "markdown",
      "source": [
        "Pengulangan While - Loop"
      ],
      "metadata": {
        "id": "1kEnwAC8WLY5"
      }
    },
    {
      "cell_type": "code",
      "source": [
        "#Pengulangan While - Loop\n",
        "\n",
        "counter = 1\n",
        "while counter <= 5:\n",
        "  print(\"counter = \", counter)\n",
        "  counter += 1"
      ],
      "metadata": {
        "id": "9TC3_xQOTyO2"
      },
      "execution_count": null,
      "outputs": []
    },
    {
      "cell_type": "code",
      "source": [
        "a = int(input())\n",
        "b = int(input())\n",
        "i = a\n",
        "while (i <= b):\n",
        "  print(i)\n",
        "  i += 2"
      ],
      "metadata": {
        "id": "gd4VZKZuUJ8S"
      },
      "execution_count": null,
      "outputs": []
    },
    {
      "cell_type": "markdown",
      "source": [
        "Nested Loop"
      ],
      "metadata": {
        "id": "RvTwzJ6GWHG9"
      }
    },
    {
      "cell_type": "code",
      "source": [
        "n = int(input())\n",
        "\n",
        "for i in range(n):\n",
        "  for j in range(n):\n",
        "    print(\"*\", end=\"\")"
      ],
      "metadata": {
        "id": "FTT9aZTwWI44"
      },
      "execution_count": null,
      "outputs": []
    },
    {
      "cell_type": "markdown",
      "source": [
        "Pembahasan Soal"
      ],
      "metadata": {
        "id": "GRtYmPtEa6O2"
      }
    },
    {
      "cell_type": "code",
      "source": [
        "#Kelipatan Terdekat\n",
        "\n",
        "N = int(input(\"Masukkan N : \"))\n",
        "\n",
        "i = N + 1\n",
        "while i % 5 != 0:\n",
        "  i += 1\n",
        "\n",
        "print(\"Output: \", i)"
      ],
      "metadata": {
        "id": "W6L_dUlYZiAs"
      },
      "execution_count": null,
      "outputs": []
    },
    {
      "cell_type": "code",
      "source": [
        "#Segitiga Bintang\n",
        "\n",
        "N = int(input(\"Masukkan N : \"))\n",
        "\n",
        "for i in range (1, N+1):\n",
        "  print(\"*\" * i)"
      ],
      "metadata": {
        "id": "NGwcEHk8aBEC"
      },
      "execution_count": null,
      "outputs": []
    },
    {
      "cell_type": "code",
      "source": [
        "# Urutan Kebawah\n",
        "\n",
        "N = int(input(\"Masukkan N : \"))\n",
        "\n",
        "for i in range (N, 0, -1):\n",
        "  for i in range (1, i+1):\n",
        "    print(i, end=\"\")\n",
        "  print()"
      ],
      "metadata": {
        "id": "rpLMgsymajDn"
      },
      "execution_count": null,
      "outputs": []
    },
    {
      "cell_type": "code",
      "source": [
        "# Kelipatan 2&3\n",
        "\n",
        "N = int(input(\"Masukkan N : \"))\n",
        "\n",
        "#Loop dari 1 hingga N\n",
        "for i in range (1, N+1):\n",
        "  if i % 2 == 0 and i % 3 == 0:\n",
        "    print(\"DuaTiga\", end=\" \")\n",
        "  elif i % 2 == 0:\n",
        "    print(\"Dua\", end=\" \")\n",
        "  elif i % 3 == 0:\n",
        "    print(\"Tiga\", end=\" \")\n",
        "  else:\n",
        "    print(i, end=\"\")\n",
        "print()"
      ],
      "metadata": {
        "id": "MdLezyf1bAEG"
      },
      "execution_count": null,
      "outputs": []
    },
    {
      "cell_type": "markdown",
      "source": [
        "- Interpretasi coding:\n",
        "\n",
        "- Interpretasi Hasil:"
      ],
      "metadata": {
        "id": "f1J9LJyv9-YC"
      }
    },
    {
      "cell_type": "markdown",
      "source": [
        "#🧠 LATIHAN SOAL DI KELAS ⏱️"
      ],
      "metadata": {
        "id": "KEGjH0_P9D1-"
      }
    },
    {
      "cell_type": "markdown",
      "source": [
        "Problem (1) Membuat program menerima bilangan N dan menuliskan bilangan 10^x terkecil yang lebih dari N"
      ],
      "metadata": {
        "id": "nt7-fY7s9PgC"
      }
    },
    {
      "cell_type": "code",
      "source": [
        "N = int(input(\"Masukkan N : \"))\n",
        "pangkat = 0\n",
        "\n",
        "while 10 ** pangkat <= N:\n",
        "  pangkat += 1\n",
        "\n",
        "print(\"Output: \", 10 ** pangkat)"
      ],
      "metadata": {
        "id": "h7si6sBj9Mr4",
        "outputId": "b3d19f1d-a002-4c24-f723-1fca0bbcf9f1",
        "colab": {
          "base_uri": "https://localhost:8080/"
        }
      },
      "execution_count": null,
      "outputs": [
        {
          "output_type": "stream",
          "name": "stdout",
          "text": [
            "Masukkan N : 1234\n",
            "Output:  10000\n"
          ]
        }
      ]
    },
    {
      "cell_type": "markdown",
      "source": [
        "- Interpretasi coding:\n",
        "1. Input program diatas untuk memasukkan nilai N\n",
        "2. variabel \"pangkat\" diinisialisasi dengan 0\n",
        "3. perulangan menggunakan while dikarenakan kondisi yang tidak pasti. artinya program tersebut tidak tahu sebelumnya berapa kali perulangan harus dilakukan\n",
        "4. Perulangan akan terus berjalan selama hasil dari 10 pangkat masih lebih kecil dari N. ketika sudah melewati atau sama dengan N, perulangan akan berhenti.\n",
        "\n",
        "- Interpretasi Hasil:\n",
        "* Masukkan N : 5\n",
        "* output : 10\n",
        "\n",
        "* Masukkan N : 1234\n",
        "* output : 10000"
      ],
      "metadata": {
        "id": "Wou8YKfJ9lvY"
      }
    },
    {
      "cell_type": "markdown",
      "source": [
        "Problem (2) Membuat program menerima bilangan N dan membuat pola segitiga angka dengan dasar N."
      ],
      "metadata": {
        "id": "Eucg6DUK9fgA"
      }
    },
    {
      "cell_type": "code",
      "source": [
        "N = int(input(\"Masukkan N: \"))\n",
        "\n",
        "for i in range(1, N + 1): #Loop luar baris\n",
        "    for j in range(1, i + 1): #Loop dalam baris\n",
        "        print(j, end=\" \")\n",
        "    print()"
      ],
      "metadata": {
        "id": "9uWMEZpP9hlB",
        "outputId": "8bbcbc45-ca2f-420b-e564-366a0a8b6412",
        "colab": {
          "base_uri": "https://localhost:8080/"
        }
      },
      "execution_count": null,
      "outputs": [
        {
          "output_type": "stream",
          "name": "stdout",
          "text": [
            "Masukkan N: 5\n",
            "1 \n",
            "1 2 \n",
            "1 2 3 \n",
            "1 2 3 4 \n",
            "1 2 3 4 5 \n"
          ]
        }
      ]
    },
    {
      "cell_type": "markdown",
      "source": [
        "- Interpretasi coding:\n",
        "1. Pada program ini, kita menggunakan nested loop karena pada output yang menghasilkan segitiga angka memiliki jumlah angka yang bertambah 1.\n",
        "2. Nested loop dapat mengatur jumlah pengulangan pada setiap baris\n",
        "3. Loop luar baris berguna untuk mengulang baris 1 hingga baris N\n",
        "4. Loop dalam baris mengulang dari kolom 1 hingga kolom i\n",
        "5. print (j, end=\"\") berguna untuk mencetak angka j tanpa pindah baris\n",
        "6. print() berguna untuk pindah ke baris baru setelah setiap baris selesai dicetak\n",
        "\n",
        "- Interpretasi Hasil:\n",
        "*1\n",
        "*1 2\n",
        "*1 2 3\n",
        "*1 2 3 4\n",
        "*1 2 3 4 5"
      ],
      "metadata": {
        "id": "fM9Fo97_93Ni"
      }
    },
    {
      "cell_type": "markdown",
      "source": [
        "Program (3) Kalkulator Sederhana"
      ],
      "metadata": {
        "id": "Bv9u6dpCMC4p"
      }
    },
    {
      "cell_type": "code",
      "source": [
        "hasil = 0\n",
        "loop = \"iya\"\n",
        "\n",
        "while loop == \"iya\":\n",
        "  angka1 = float(input(\"Masukkan angka pertama: \"))\n",
        "  angka2 = float(input(\"Masukkan angka kedua: \"))\n",
        "  operator = input(\"Masukkan operator: \")\n",
        "  #Penjumlahan\n",
        "  if operator == \"+\":\n",
        "    hasil = angka1 + angka2\n",
        "  #Pengurangan\n",
        "  elif operator == \"-\":\n",
        "    hasil = angka1 - angka2\n",
        "  #Perkalian\n",
        "  elif operator == \"x\":\n",
        "    hasil = angka1 * angka2\n",
        "  #Pembagian\n",
        "  elif operator == \"/\":\n",
        "    hasil = angka1 / angka2\n",
        "  #Ketika Tidak Valid\n",
        "  else:\n",
        "    print(\"Perhitungan Tidak Valid\")\n",
        "  #Hasil\n",
        "  print(\"Hasil : \", hasil)\n",
        "  print()\n",
        "  loop = str(input(\"Ulangi ? (iya/tidak) : \"))"
      ],
      "metadata": {
        "id": "CsbedGMOMGYG",
        "outputId": "b20ab396-e172-4f44-f47d-43cfae599ed2",
        "colab": {
          "base_uri": "https://localhost:8080/"
        }
      },
      "execution_count": null,
      "outputs": [
        {
          "name": "stdout",
          "output_type": "stream",
          "text": [
            "Masukkan angka pertama: 2\n",
            "Masukkan angka kedua: 2000\n",
            "Masukkan operator: +\n",
            "Hasil :  2002.0\n",
            "\n",
            "Ulangi ? (iya/tidak) : iya\n",
            "Masukkan angka pertama: 3\n",
            "Masukkan angka kedua: 4\n",
            "Masukkan operator: +\n",
            "Hasil :  7.0\n",
            "\n",
            "Ulangi ? (iya/tidak) : tidak\n"
          ]
        }
      ]
    },
    {
      "cell_type": "markdown",
      "source": [
        "Program (4) Bilangan Ganjil"
      ],
      "metadata": {
        "id": "URqcN5kkMRz1"
      }
    },
    {
      "cell_type": "code",
      "source": [
        "awal = int(input(\"Masukkan angka awal: \"))\n",
        "akhir = int(input(\"Masukkan angka akhir: \"))\n",
        "x = []\n",
        "y = []\n",
        "\n",
        "for i in range (awal, akhir+1):\n",
        "  if i % 2 == 0:\n",
        "    x.append(i)\n",
        "  else:\n",
        "    y.append(i)\n",
        "\n",
        "print(\"Bilangan Ganjil: \", y)\n",
        "print(\"Bilangan Genap: \", x)"
      ],
      "metadata": {
        "colab": {
          "base_uri": "https://localhost:8080/"
        },
        "outputId": "38c3e434-cf49-439d-c657-9699c2ca3536",
        "id": "RXkRiWV0M29u"
      },
      "execution_count": null,
      "outputs": [
        {
          "output_type": "stream",
          "name": "stdout",
          "text": [
            "Masukkan angka awal: 1\n",
            "Masukkan angka akhir: 20\n",
            "Bilangan Ganjil:  [1, 3, 5, 7, 9, 11, 13, 15, 17, 19]\n",
            "Bilangan Genap:  [2, 4, 6, 8, 10, 12, 14, 16, 18, 20]\n"
          ]
        }
      ]
    },
    {
      "cell_type": "markdown",
      "source": [
        "#🏆 POST TEST 🎯"
      ],
      "metadata": {
        "id": "J_75vTSXKFGE"
      }
    },
    {
      "cell_type": "markdown",
      "source": [
        "Problem (1) membuat program jika \"x\" kelipatan dari a maka keluarkan \"Siap\". Jika \"x\" kelipatan dari b maka keluarkan \"bang\". jika \"x\" kelipatan c maka keluarkan \"jago\". jika \"x\" bukan merupakan kelipatan seluruhnya \"else\", maka tampilkan angka aja."
      ],
      "metadata": {
        "id": "twhHfrqiKSfV"
      }
    },
    {
      "cell_type": "code",
      "source": [
        "N = int(input(\"Masukkan N : \"))\n",
        "a = int(input(\"Masukkan A : \"))\n",
        "b = int(input(\"Masukkan B : \"))\n",
        "c = int(input(\"Masukkan C : \"))\n",
        "\n",
        "for x in range (1, N+1):\n",
        "  if x % a == 0 and x % b == 0 and x % c == 0:\n",
        "    print(\"SiapBangJago\", end=\" \")\n",
        "  elif x % a == 0 and x % b == 0:\n",
        "    print(\"SiapBang\", end=\" \")\n",
        "  elif x % a == 0 and x % c == 0:\n",
        "    print(\"SiapJago\", end=\" \")\n",
        "  elif x % b == 0 and x % c == 0:\n",
        "    print(\"BangJago\", end=\" \")\n",
        "  elif x % a == 0:\n",
        "    print(\"Siap\", end=\" \")\n",
        "  elif x % b == 0:\n",
        "    print(\"Bang\", end=\" \")\n",
        "  elif x % c == 0:\n",
        "    print(\"Jago\", end=\" \")\n",
        "  else:\n",
        "    print(x, end=\" \")\n",
        "print()"
      ],
      "metadata": {
        "id": "hOI8Gls9KV05",
        "colab": {
          "base_uri": "https://localhost:8080/"
        },
        "outputId": "c753719e-b8a6-47a2-f4a0-d34b9d2185fb"
      },
      "execution_count": null,
      "outputs": [
        {
          "output_type": "stream",
          "name": "stdout",
          "text": [
            "Masukkan N : 12\n",
            "Masukkan A : 2\n",
            "Masukkan B : 3\n",
            "Masukkan C : 4\n",
            "1 Siap Bang SiapJago 5 SiapBang 7 SiapJago Bang Siap 11 SiapBangJago \n"
          ]
        }
      ]
    },
    {
      "cell_type": "markdown",
      "source": [
        "- Interpretasi coding:\n",
        "1. Input program N, a, b, c\n",
        "2. Menggunakan pengulangan for loop untuk mengulang angka dari 1 hingga N\n",
        "3. pada saat menggunakan if elif else, kita menjabarkan dari tiap masing masing angka, apabila kelipatan x habis dibagi a, b, c maka akan keluar output \"SiapBangJago\"\n",
        "4. Apabila kelipatan x habis dibagi a dan b maka akan keluar output \"SiapBang\"\n",
        "5. Apabila kelipatan x habis dibagi b dan c maka akan keluar output \"BangJago\"\n",
        "6. Apabila kelipatan x habis dibagi a maka akan keluar output \"Siap\"\n",
        "7. Apabila kelipatan x habis dibagi b maka akan keluar output \"Bang\"\n",
        "8. Apabila kelipatan x habis dibagi c maka akan keluar output \"Jago\"\n",
        "9. Apabila kelipatan x tidak dapat dibagi a,b,c maka akan keluar output bilangan itu sendiri \"N\"\n",
        "- Interpretasi hasil:\n",
        "\n",
        "Masukkan nilai N = 12\n",
        "Masukkan Nilai a = 2\n",
        "Masukkan Nilai b = 3\n",
        "Masukkan Nilai c = 4\n",
        "Output : 1 Siap Bang SiapJago 5 SiapBang 7 SiapJago Bang Siap 11 SiapBangJago"
      ],
      "metadata": {
        "id": "t9x---59KWVI"
      }
    },
    {
      "cell_type": "markdown",
      "source": [
        "📌Catatan:\n",
        "  - Notebook python ini dibuat untuk memudahkan temen-temen belajar ngoding dan pengumpulan tugas.\n",
        "  - Silakan download notebook ini lalu upload di Google Collab milik kalian agar format `pertemuan`, `topik pertemuan`,\n",
        "`tanggal`, `deskripsi pembahasan materi`, `baris coding` dan `interpretasi` bisa disesuaikan dengan kebutuhan teman-teman.\n",
        "\n",
        "  - Interpretasi coding dan hasil dimaksudkan agar teman-teman semakin memahami apa yang dipelajari.\n",
        "\n",
        "  - Deskripsi pembahasan materi dimaksudkan agar teman-teman semakin memahami apa fokus yang dipelajari.\n",
        "\n",
        "  - Tulisan di setiap sebelum baris code disebut `markdown`. Ada beberapa jenis simbol yang memudahkan kepenulisan `markdown` kita, yaitu seperti : untuk mengatur ukuran tulisan biasanya tulisan pada header menggunakan ini`#`, `##`, `###`, untuk membuat pointer menggunakan ini `-`, untuk membuat tulisan ter-highlight menggunakan ini *` `* , untuk short-cut membuat tulisan jadi **bold** gunakan ini `** **`, dan untuk *tulisan miring* gunakan ini `* *` .\n",
        "\n",
        "  - Semangat belajar! 🌟✨\n",
        "\n",
        "©️ LABORATORIUM SAINS DATA 2024"
      ],
      "metadata": {
        "id": "D-tRQnbQK69l"
      }
    }
  ]
}