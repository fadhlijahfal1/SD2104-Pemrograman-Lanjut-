{
  "nbformat": 4,
  "nbformat_minor": 0,
  "metadata": {
    "colab": {
      "provenance": [],
      "authorship_tag": "ABX9TyM1z6+5b239Pn83w16bMdt6",
      "include_colab_link": true
    },
    "kernelspec": {
      "name": "python3",
      "display_name": "Python 3"
    },
    "language_info": {
      "name": "python"
    }
  },
  "cells": [
    {
      "cell_type": "markdown",
      "metadata": {
        "id": "view-in-github",
        "colab_type": "text"
      },
      "source": [
        "<a href=\"https://colab.research.google.com/github/fadhlijahfal1/SD2104-Pemrograman-Lanjut-/blob/main/Post_Test_Lab_Pemrograman_2C2230008_Fadhli_Jahfal.ipynb\" target=\"_parent\"><img src=\"https://colab.research.google.com/assets/colab-badge.svg\" alt=\"Open In Colab\"/></a>"
      ]
    },
    {
      "cell_type": "markdown",
      "source": [
        "**POST TEST LAB PEMROGRAMAN**\n",
        "\n",
        "**Nama : Fadhli Jahfal Aufa Maulana**\n",
        "**NRP : 2C2230008**"
      ],
      "metadata": {
        "id": "HP_lnydaPaBt"
      }
    },
    {
      "cell_type": "markdown",
      "source": [
        "**Soal No 1**"
      ],
      "metadata": {
        "id": "mUWzPFz1RpVp"
      }
    },
    {
      "cell_type": "code",
      "execution_count": 1,
      "metadata": {
        "colab": {
          "base_uri": "https://localhost:8080/"
        },
        "id": "4mpEBf9yPK8u",
        "outputId": "bd64dd70-cf5f-46a8-fded-84ad894a10d0"
      },
      "outputs": [
        {
          "output_type": "stream",
          "name": "stdout",
          "text": [
            "Masukkan Berat Badan Atlit : 71\n",
            "Atlit tersebut Masuk ke kelas -> F\n"
          ]
        }
      ],
      "source": [
        "berat_badan = int(input(\"Masukkan Berat Badan Atlit : \"))\n",
        "\n",
        "if 45 <= berat_badan <= 50:\n",
        "  print (\"Atlit tersebut Masuk ke kelas -> A\")\n",
        "elif 50 < berat_badan <= 55:\n",
        "  print (\"Atlit tersebut Masuk ke kelas -> B\")\n",
        "elif 55 < berat_badan <= 60:\n",
        "  print (\"Atlit tersebut Masuk ke kelas -> C\")\n",
        "elif 60 < berat_badan <= 65:\n",
        "  print (\"Atlit tersebut Masuk ke kelas -> D\")\n",
        "elif 65 < berat_badan <= 70:\n",
        "  print (\"Atlit tersebut Masuk ke kelas -> E\")\n",
        "elif berat_badan > 70:\n",
        "  print (\"Atlit tersebut Masuk ke kelas -> F\")\n",
        "else:\n",
        "  print (\"Tidak Memenuhi Kualifikasi\")"
      ]
    },
    {
      "cell_type": "markdown",
      "source": [
        "**Soal No 2**"
      ],
      "metadata": {
        "id": "kr5poPEYR4kz"
      }
    },
    {
      "cell_type": "code",
      "source": [
        "input_angka = int(input(\"Masukkan bilangan bulat kamu: \"))\n",
        "\n",
        "ratusan = input_angka // 100\n",
        "puluhan = (input_angka % 100) // 10\n",
        "satuan = input_angka % 10\n",
        "jumlah = ratusan**3 + puluhan**3 + satuan**3\n",
        "\n",
        "print(ratusan, \"^3 +\", puluhan, \"^3 +\", satuan, \"^3 =\", jumlah)\n",
        "\n",
        "if jumlah == input_angka:\n",
        "  print(f\"Bilangan {input_angka} adalah bilangan Armstrong\")\n",
        "else:\n",
        "  print(f\"Bilangan {input_angka} bukan bilangan Armstrong\")"
      ],
      "metadata": {
        "colab": {
          "base_uri": "https://localhost:8080/"
        },
        "id": "adrAj95zR63B",
        "outputId": "e42f3b32-36da-4a45-cfff-2511034445f7"
      },
      "execution_count": 2,
      "outputs": [
        {
          "output_type": "stream",
          "name": "stdout",
          "text": [
            "Masukkan bilangan bulat kamu: 371\n",
            "3 ^3 + 7 ^3 + 1 ^3 = 371\n",
            "Bilangan 371 adalah bilangan Armstrong\n"
          ]
        }
      ]
    },
    {
      "cell_type": "markdown",
      "source": [
        "**Soal No 3**"
      ],
      "metadata": {
        "id": "FbC3AxoWUnzP"
      }
    },
    {
      "cell_type": "code",
      "source": [
        "import math\n",
        "\n",
        "jari_jari = int(input(\"Masukkan nilai jari-jari: \"))\n",
        "phi = 3.1416\n",
        "\n",
        "volume = 4/3 * phi * jari_jari**3\n",
        "\n",
        "print(\"Volume balok adalah\", volume)"
      ],
      "metadata": {
        "colab": {
          "base_uri": "https://localhost:8080/"
        },
        "id": "9jeqG0hdUpZH",
        "outputId": "81e979d3-cb74-4b5e-bfe5-e219277533c0"
      },
      "execution_count": 3,
      "outputs": [
        {
          "output_type": "stream",
          "name": "stdout",
          "text": [
            "Masukkan nilai jari-jari: 15\n",
            "Volume balok adalah 14137.199999999999\n"
          ]
        }
      ]
    },
    {
      "cell_type": "markdown",
      "source": [
        "**Soal No 4**"
      ],
      "metadata": {
        "id": "BuJZn9d4WTYw"
      }
    },
    {
      "cell_type": "code",
      "source": [
        "total_tinggi = 0\n",
        "jumlah_siswa_valid = 0\n",
        "tinggi_valid = []\n",
        "\n",
        "\n",
        "n = int(input(\"Masukkan jumlah siswa: \"))\n",
        "\n",
        "\n",
        "print(\"Masukkan tinggi setiap siswa (dalam cm):\")\n",
        "for i in range(n):\n",
        "    tinggi = int(input(f\"Tinggi siswa ke-{i+1}: \"))\n",
        "\n",
        "\n",
        "    if 100 <= tinggi <= 200:\n",
        "        total_tinggi += tinggi\n",
        "        jumlah_siswa_valid += 1\n",
        "        tinggi_valid.append(tinggi)\n",
        "\n",
        "\n",
        "print(\"Hasil Perhitungan:\")\n",
        "if jumlah_siswa_valid > 0:\n",
        "    rata_rata = total_tinggi / jumlah_siswa_valid\n",
        "    print(f\"Jumlah siswa total: {n}\")\n",
        "    print(f\"Jumlah siswa dengan tinggi valid: {jumlah_siswa_valid}\")\n",
        "    print(f\"Data tinggi yang valid: {tinggi_valid}\")\n",
        "    print(f\"Rata-rata tinggi: {rata_rata:.2f} cm\")\n",
        "\n",
        "    if jumlah_siswa_valid < n:\n",
        "        print(f\"Catatan: {n - jumlah_siswa_valid} data tinggi diabaikan karena di luar rentang 100-200 cm\")\n",
        "else:\n",
        "    print(\"Tidak ada data tinggi\")"
      ],
      "metadata": {
        "colab": {
          "base_uri": "https://localhost:8080/"
        },
        "id": "H48wuLIUWV1d",
        "outputId": "0f43b4c5-ca1a-499a-b668-95cae8c08bd6"
      },
      "execution_count": 4,
      "outputs": [
        {
          "output_type": "stream",
          "name": "stdout",
          "text": [
            "Masukkan jumlah siswa: 5\n",
            "Masukkan tinggi setiap siswa (dalam cm):\n",
            "Tinggi siswa ke-1: 90\n",
            "Tinggi siswa ke-2: 201\n",
            "Tinggi siswa ke-3: 200\n",
            "Tinggi siswa ke-4: 180\n",
            "Tinggi siswa ke-5: 150\n",
            "Hasil Perhitungan:\n",
            "Jumlah siswa total: 5\n",
            "Jumlah siswa dengan tinggi valid: 3\n",
            "Data tinggi yang valid: [200, 180, 150]\n",
            "Rata-rata tinggi: 176.67 cm\n",
            "Catatan: 2 data tinggi diabaikan karena di luar rentang 100-200 cm\n"
          ]
        }
      ]
    },
    {
      "cell_type": "code",
      "source": [
        "nama=input('Masukkan Nama :')\n",
        "nilai_p=float(input('Masukkan Nilai Praktikum :'))\n",
        "nilai_UTS=float(input('Masukkan Nilai UTS :'))\n",
        "nilai_UAS=float(input('Masukkan Nilai UAS :'))\n",
        "\n",
        "nilai_akhir=(nilai_p*0.2)+(nilai_UTS*0.4)+(nilai_UAS*0.4)\n",
        "\n",
        "print ('Hasil')\n",
        "print('Nama :',nama)\n",
        "print('Nilai akhir :',nilai_akhir)\n",
        "if nilai_akhir>=85:\n",
        "  print('Indeks : A')\n",
        "elif nilai_akhir>=75:\n",
        "  print('Indeks : AB')\n",
        "elif nilai_akhir>=70:\n",
        "  print('Indeks : B')\n",
        "elif nilai_akhir>=60:\n",
        "  print('Indeks : AB')\n",
        "elif nilai_akhir>=50:\n",
        "  print('Indeks : C')\n",
        "elif nilai_akhir>=40:\n",
        "  print('Indeks : D')\n",
        "else:\n",
        "  print('Indeks : E')"
      ],
      "metadata": {
        "colab": {
          "base_uri": "https://localhost:8080/"
        },
        "id": "edQV6GNCbsk6",
        "outputId": "6f59ee0f-8257-4244-8417-ed0269efaebb"
      },
      "execution_count": 6,
      "outputs": [
        {
          "output_type": "stream",
          "name": "stdout",
          "text": [
            "Masukkan Nama :asep\n",
            "Masukkan Nilai Praktikum :90\n",
            "Masukkan Nilai UTS :70\n",
            "Masukkan Nilai UAS :70\n",
            "Hasil\n",
            "Nama : asep\n",
            "Nilai akhir : 74.0\n",
            "Indeks : B\n"
          ]
        }
      ]
    }
  ]
}