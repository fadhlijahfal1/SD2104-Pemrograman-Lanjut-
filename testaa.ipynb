{
  "nbformat": 4,
  "nbformat_minor": 0,
  "metadata": {
    "colab": {
      "provenance": [],
      "authorship_tag": "ABX9TyNBvxcQ/5LIj3ZV5F3SaHLS",
      "include_colab_link": true
    },
    "kernelspec": {
      "name": "python3",
      "display_name": "Python 3"
    },
    "language_info": {
      "name": "python"
    }
  },
  "cells": [
    {
      "cell_type": "markdown",
      "metadata": {
        "id": "view-in-github",
        "colab_type": "text"
      },
      "source": [
        "<a href=\"https://colab.research.google.com/github/fadhlijahfal1/SD2104-Pemrograman-Lanjut-/blob/main/testaa.ipynb\" target=\"_parent\"><img src=\"https://colab.research.google.com/assets/colab-badge.svg\" alt=\"Open In Colab\"/></a>"
      ]
    },
    {
      "cell_type": "markdown",
      "source": [],
      "metadata": {
        "id": "eIl1RDi3R0-l"
      }
    },
    {
      "cell_type": "code",
      "execution_count": 3,
      "metadata": {
        "colab": {
          "base_uri": "https://localhost:8080/"
        },
        "id": "XNhxYPkVwvqI",
        "outputId": "1a1e44c0-f494-4a19-c835-61648711ad04"
      },
      "outputs": [
        {
          "output_type": "stream",
          "name": "stdout",
          "text": [
            "Masukkan Panjang : 5\n",
            "Masukkan Lebar : 4\n",
            "Output -> Persegi Panjang\n"
          ]
        }
      ],
      "source": [
        "#Soal 1\n",
        "p = float(input(\"Masukkan Panjang : \"))\n",
        "l = float(input(\"Masukkan Lebar : \"))\n",
        "\n",
        "if p == l:\n",
        "  print(\"Output -> Bujur Sangkar\")\n",
        "elif p <= 0:\n",
        "  print(\"Output -> Operasi Tidak Bisa Dilakukan\")\n",
        "elif l <= 0:\n",
        "  print(\"Output -> Operasi Tidak Bisa Dilakukan\")\n",
        "else:\n",
        "  print(\"Output -> Persegi Panjang\")"
      ]
    },
    {
      "cell_type": "code",
      "source": [
        "#Soal 2\n",
        "n = int(input(\"Masukkan Nilai [1-10] : \"))\n",
        "\n",
        "if 1 <= n <= 10:\n",
        "  romawi = { 1 : 'I', 2 : 'II', 3 : 'III', 4 : 'IV', 5 : 'V', 6 : 'VI', 7 : 'VII', 8 : 'VIII', 9 : 'IX', 10 : 'X' }\n",
        "  print(f\"Nilainya adalah {romawi[n]}\")\n",
        "else:\n",
        "  print(\"Kesalahan\")"
      ],
      "metadata": {
        "colab": {
          "base_uri": "https://localhost:8080/"
        },
        "id": "aabKgWBWyI_V",
        "outputId": "49f0539f-c0b6-4dd4-db2f-e6da584d05a9"
      },
      "execution_count": 2,
      "outputs": [
        {
          "output_type": "stream",
          "name": "stdout",
          "text": [
            "Masukkan Nilai [1-10] : 4\n",
            "Nilainya adalah IV\n"
          ]
        }
      ]
    },
    {
      "cell_type": "code",
      "source": [
        "#Soal 3\n",
        "import math\n",
        "\n",
        "while True:\n",
        "  a = float(input(\"Masukkan panjang alas (a): \"))\n",
        "  if a > 0:\n",
        "    break\n",
        "  else:\n",
        "    print(\"Alas harus lebih besar dari 0. Silakan masukkan kembali.\")\n",
        "\n",
        "while True:\n",
        "  b = float(input(\"Masukkan panjang tinggi (b): \"))\n",
        "  if b > 0:\n",
        "    break\n",
        "  else:\n",
        "    print(\"Tinggi harus lebih besar dari 0. Silakan masukkan kembali.\")\n",
        "\n",
        "c = math.sqrt(a**2 + b**2)\n",
        "\n",
        "print(\"Panjang sisi miring (c):\", c)"
      ],
      "metadata": {
        "id": "56tXk8SOzSvw",
        "colab": {
          "base_uri": "https://localhost:8080/"
        },
        "outputId": "7ac1d3af-82ea-46c6-8aae-59036db00430"
      },
      "execution_count": 31,
      "outputs": [
        {
          "output_type": "stream",
          "name": "stdout",
          "text": [
            "Masukkan panjang alas (a): 4\n",
            "Masukkan panjang tinggi (b): 8\n",
            "Panjang sisi miring (c): 8.94427190999916\n"
          ]
        }
      ]
    },
    {
      "cell_type": "code",
      "source": [
        "# Soal 4\n",
        "Celcius = float(input(\"Masukkan suhu dalam Celcius: \"))\n",
        "kode_konversi = input(\"Masukkan kode konversi (F, R, atau K): \")\n",
        "\n",
        "if kode_konversi == \"F\":\n",
        "    hasil = (9/5 * Celcius) + 32\n",
        "    print(\"Suhu dalam Fahrenheit:\", hasil)\n",
        "elif kode_konversi == \"R\":\n",
        "    hasil = 4/5 * Celcius\n",
        "    print(\"Suhu dalam Reamur:\", hasil)\n",
        "elif kode_konversi == \"K\":\n",
        "    hasil = Celcius + 273\n",
        "    print(\"Suhu dalam Kelvin:\", hasil)\n",
        "else:\n",
        "    print(\"Operasi tidak bisa dikerjakan!\")"
      ],
      "metadata": {
        "id": "yWdzGZVqzgYy",
        "colab": {
          "base_uri": "https://localhost:8080/"
        },
        "outputId": "a6da8e76-b85b-49e4-b111-e92e5db338ba"
      },
      "execution_count": 28,
      "outputs": [
        {
          "output_type": "stream",
          "name": "stdout",
          "text": [
            "Masukkan suhu dalam Celcius: 32\n",
            "Masukkan kode konversi (F, R, atau K): K\n",
            "Suhu dalam Kelvin: 305.0\n"
          ]
        }
      ]
    },
    {
      "cell_type": "code",
      "source": [
        "# Soal 5\n",
        "a = int(input(\"Masukkan bilangan pertama: \"))\n",
        "b = int(input(\"Masukkan bilangan kedua: \"))\n",
        "c = int(input(\"Masukkan bilangan ketiga: \"))\n",
        "\n",
        "if a >= b >= c:\n",
        "    print(a, b, c)\n",
        "elif a >= c >= b:\n",
        "    print(a, c, b)\n",
        "elif b >= a >= c:\n",
        "    print(b, a, c)\n",
        "elif b >= c >= a:\n",
        "    print(b, c, a)\n",
        "elif c >= a >= b:\n",
        "    print(c, a, b)\n",
        "else:\n",
        "    print(c, b, a)"
      ],
      "metadata": {
        "id": "QmKsR7Jnz8PR",
        "colab": {
          "base_uri": "https://localhost:8080/"
        },
        "outputId": "8f67f25a-5780-45ed-baa1-fc71084727ce"
      },
      "execution_count": 13,
      "outputs": [
        {
          "output_type": "stream",
          "name": "stdout",
          "text": [
            "Masukkan bilangan pertama: 3\n",
            "Masukkan bilangan kedua: 4\n",
            "Masukkan bilangan ketiga: -1\n",
            "4 3 -1\n"
          ]
        }
      ]
    },
    {
      "cell_type": "code",
      "source": [
        "#Soal 7\n",
        "angka = int(input(\"Masukkan bilangan bulat ratusan (3 digit): \"))\n",
        "\n",
        "ratusan = angka // 100\n",
        "puluhan = (angka % 100) // 10\n",
        "satuan = angka % 10\n",
        "jumlah = ratusan**3 + puluhan**3 + satuan**3\n",
        "print(ratusan, \"^3 +\", puluhan, \"^3 +\", satuan, \"^3 =\", jumlah)\n",
        "\n",
        "if jumlah == angka:\n",
        "  print(\"Bilangan\", angka, \"adalah bilangan Armstrong\")\n",
        "else:\n",
        "  print(\"Bilangan\", angka, \"bukan bilangan Armstrong\")"
      ],
      "metadata": {
        "colab": {
          "base_uri": "https://localhost:8080/"
        },
        "id": "eVjixAa6dxSn",
        "outputId": "6f7889ab-4a22-4ffb-f165-e5706c018ff0"
      },
      "execution_count": 23,
      "outputs": [
        {
          "output_type": "stream",
          "name": "stdout",
          "text": [
            "Masukkan bilangan bulat ratusan (3 digit): 371\n",
            "3 ^3 + 7 ^3 + 1 ^3 = 371\n",
            "Bilangan 371 adalah bilangan Armstrong\n"
          ]
        }
      ]
    },
    {
      "cell_type": "code",
      "source": [
        "#Soal 6\n",
        "TI = list(range(1, 101))\n",
        "\n",
        "nilai_maks = TI[0]\n",
        "nilai_min = TI[0]\n",
        "\n",
        "for value in TI:\n",
        "    if value > nilai_maks:\n",
        "        nilai_min = value\n",
        "    if value < nilai_min:\n",
        "        nilai_min = value\n",
        "\n",
        "print(\"Pilih opsi:\")\n",
        "print(\"0: Tampilkan nilai maksimum dan minimum\")\n",
        "print(\"1: Tampilkan nilai maksimum saja\")\n",
        "print(\"2: Tampilkan nilai minimum saja\")\n",
        "pilihan = int(input(\"Masukkan pilihan (0, 1, atau 2): \"))\n",
        "\n",
        "if pilihan == 0:\n",
        "    print(f\"Nilai maksimum: {nilai_maks}\")\n",
        "    print(f\"Nilai minimum: {nilai_min}\")\n",
        "elif pilihan == 1:\n",
        "    print(f\"Nilai maksimum: {nilai_maks}\")\n",
        "elif pilihan == 2:\n",
        "    print(f\"Nilai minimum: {nilai_min}\")\n",
        "else:\n",
        "    print(\"Pilihan tidak valid\")"
      ],
      "metadata": {
        "colab": {
          "base_uri": "https://localhost:8080/"
        },
        "id": "v_LIu6oLigRJ",
        "outputId": "cbb32241-c073-4fe0-ee57-04dcf7ce55e0"
      },
      "execution_count": 30,
      "outputs": [
        {
          "output_type": "stream",
          "name": "stdout",
          "text": [
            "Pilih opsi:\n",
            "0: Tampilkan nilai maksimum dan minimum\n",
            "1: Tampilkan nilai maksimum saja\n",
            "2: Tampilkan nilai minimum saja\n",
            "Masukkan pilihan (0, 1, atau 2): 0\n",
            "Nilai maksimum: 1\n",
            "Nilai minimum: 100\n"
          ]
        }
      ]
    }
  ]
}