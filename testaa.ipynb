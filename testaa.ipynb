{
  "nbformat": 4,
  "nbformat_minor": 0,
  "metadata": {
    "colab": {
      "provenance": [],
      "authorship_tag": "ABX9TyOgSF4okqYtYQhF1lj79NjH",
      "include_colab_link": true
    },
    "kernelspec": {
      "name": "python3",
      "display_name": "Python 3"
    },
    "language_info": {
      "name": "python"
    }
  },
  "cells": [
    {
      "cell_type": "markdown",
      "metadata": {
        "id": "view-in-github",
        "colab_type": "text"
      },
      "source": [
        "<a href=\"https://colab.research.google.com/github/fadhlijahfal1/SD2104-Pemrograman-Lanjut-/blob/main/testaa.ipynb\" target=\"_parent\"><img src=\"https://colab.research.google.com/assets/colab-badge.svg\" alt=\"Open In Colab\"/></a>"
      ]
    },
    {
      "cell_type": "code",
      "execution_count": 1,
      "metadata": {
        "colab": {
          "base_uri": "https://localhost:8080/",
          "height": 0
        },
        "id": "XNhxYPkVwvqI",
        "outputId": "1e037cf7-5b58-412f-e187-dcebaea27049"
      },
      "outputs": [
        {
          "output_type": "stream",
          "name": "stdout",
          "text": [
            "Masukkan Panjang : 2\n",
            "Masukkan Lebar : 2\n",
            "Bujur Sangkar\n"
          ]
        }
      ],
      "source": [
        "#soal 1\n",
        "p = int(input(\"Masukkan Panjang : \"))\n",
        "l = int(input(\"Masukkan Lebar : \"))\n",
        "\n",
        "if p == l:\n",
        "  print(\"Output -> Bujur Sangkar\")\n",
        "else:\n",
        "  print(\"Output -> Persegi Panjang\")\n",
        "\n"
      ]
    },
    {
      "cell_type": "code",
      "source": [
        "#Soal 2\n",
        "n = int(input(\"Masukkan Nilai [1-10] : \"))\n",
        "\n",
        "if 1 <= n <= 10:\n",
        "  romawi = { 1 : 'I', 2 : 'II', 3 : 'III', 4 : 'IV', 5 : 'V', 6 : 'VI', 7 : 'VII', 8 : 'VIII', 9 : 'IX', 10 : 'X' }\n",
        "  print(f\"Nilainya adalah {romawi[n]}\")\n",
        "else:\n",
        "  print(\"Kesalahan\")"
      ],
      "metadata": {
        "colab": {
          "base_uri": "https://localhost:8080/",
          "height": 0
        },
        "id": "aabKgWBWyI_V",
        "outputId": "80cbbdab-9c24-4cda-8fd1-e4211900ace5"
      },
      "execution_count": 3,
      "outputs": [
        {
          "output_type": "stream",
          "name": "stdout",
          "text": [
            "Masukkan Nilai [1-10] : 4\n",
            "Nilainya adalah IV\n"
          ]
        }
      ]
    },
    {
      "cell_type": "code",
      "source": [
        "#Soal 3\n",
        "import math\n",
        "\n",
        "# Input alas dan tinggi segitiga\n",
        "a = float(input(\"Masukkan panjang alas (a): \"))\n",
        "b = float(input(\"Masukkan panjang tinggi (b): \"))\n",
        "\n",
        "# Menghitung sisi miring (c)\n",
        "c = math.sqrt(a**2 + b**2)\n",
        "\n",
        "# Menampilkan hasil\n",
        "print(\"Panjang sisi miring (c):\", c)"
      ],
      "metadata": {
        "id": "56tXk8SOzSvw"
      },
      "execution_count": null,
      "outputs": []
    },
    {
      "cell_type": "code",
      "source": [
        "# Soal 4 Input suhu dalam Celcius dan kode konversi\n",
        "TC = float(input(\"Masukkan suhu dalam Celcius: \"))\n",
        "kode_konversi = input(\"Masukkan kode konversi (F, R, atau K): \")\n",
        "\n",
        "# Konversi suhu\n",
        "if kode_konversi == \"F\":\n",
        "    hasil = (9/5 * TC) + 32\n",
        "    print(\"Suhu dalam Fahrenheit:\", hasil)\n",
        "elif kode_konversi == \"R\":\n",
        "    hasil = 4/5 * TC\n",
        "    print(\"Suhu dalam Reamur:\", hasil)\n",
        "elif kode_konversi == \"K\":\n",
        "    hasil = TC + 273\n",
        "    print(\"Suhu dalam Kelvin:\", hasil)"
      ],
      "metadata": {
        "id": "yWdzGZVqzgYy"
      },
      "execution_count": null,
      "outputs": []
    },
    {
      "cell_type": "code",
      "source": [
        "# Soal 5 Meminta input dari pengguna\n",
        "a = int(input(\"Masukkan bilangan pertama: \"))\n",
        "b = int(input(\"Masukkan bilangan kedua: \"))\n",
        "c = int(input(\"Masukkan bilangan ketiga: \"))\n",
        "\n",
        "# Menggunakan kondisi untuk mengurutkan\n",
        "if a >= b >= c:\n",
        "    print(a, b, c)\n",
        "elif a >= c >= b:\n",
        "    print(a, c, b)\n",
        "elif b >= a >= c:\n",
        "    print(b, a, c)\n",
        "elif b >= c >= a:\n",
        "    print(b, c, a)\n",
        "elif c >= a >= b:\n",
        "    print(c, a, b)\n",
        "else:\n",
        "    print(c, b, a)"
      ],
      "metadata": {
        "id": "QmKsR7Jnz8PR"
      },
      "execution_count": null,
      "outputs": []
    },
    {
      "cell_type": "code",
      "source": [
        "#soal 6\n",
        "import random\n",
        "\n",
        "# Inisialisasi array TI dengan 100 elemen acak (contoh)\n",
        "TI = [random.randint(1, 100) for _ in range(100)]\n",
        "\n",
        "# Input pilihan dari pengguna\n",
        "pilihan = int(input(\"Masukkan pilihan (0, 1, atau 2): \"))\n",
        "\n",
        "# Mencari nilai maksimum dan minimum\n",
        "# menggunakan fungsi bawaan max() dan min()\n",
        "maksimum = max(TI)\n",
        "minimum = min(TI)\n",
        "\n",
        "# Menampilkan hasil berdasarkan pilihan\n",
        "if pilihan == 0:\n",
        "    print(\"Nilai maksimum:\", maksimum)\n",
        "    print(\"Nilai minimum:\", minimum)\n",
        "elif pilihan == 1:\n",
        "    print(\"Nilai maksimum:\", maksimum)\n",
        "elif pilihan == 2:\n",
        "    print(\"Nilai minimum:\", minimum)"
      ],
      "metadata": {
        "id": "uRb0MntH0t5v"
      },
      "execution_count": null,
      "outputs": []
    },
    {
      "cell_type": "code",
      "source": [
        "#soal 7\n",
        "a = int(input(\"Masukkan nilai pertama: \"))\n",
        "b = int(input(\"Masukkan nilai kedua: \"))\n",
        "c = int(input(\"Masukkan nilai ketiga: \"))\n",
        "\n",
        "jumlah = a**3 + b**3 + c**3\n",
        "print(f\"Jumlah dari {a}^3 + {b}^3 + {c}^3 adalah {jumlah}\")\n",
        "\n",
        "if jumlah == 371:\n",
        "    print(f\"{a}^3 + {b}^3 + {c}^3 sama dengan 371\")\n",
        "else:\n",
        "    print(f\"{a}^3 + {b}^3 + {c}^3 tidak sama dengan 371\")"
      ],
      "metadata": {
        "id": "aXJGF9aO1NU3"
      },
      "execution_count": null,
      "outputs": []
    },
    {
      "cell_type": "code",
      "source": [
        "# Meminta input bilangan dari pengguna\n",
        "num = int(input(\"Masukkan bilangan tiga digit: \"))\n",
        "\n",
        "# Mengubah bilangan menjadi string untuk mengambil digit-digitnya\n",
        "num_str = str(num)\n",
        "\n",
        "# Inisialisasi jumlah pangkat tiga dari digit-digit\n",
        "sum_of_cubes = 0\n",
        "\n",
        "# Hitung jumlah pangkat tiga dari setiap digit\n",
        "for digit in num_str:\n",
        "    sum_of_cubes += int(digit) ** 3\n",
        "\n",
        "# Bandingkan jumlah pangkat tiga dengan bilangan asli\n",
        "if sum_of_cubes == num:\n",
        "    print(num, \"adalah bilangan Armstrong.\")\n",
        "else:\n",
        "    print(num, \"bukan bilangan Armstrong.\")"
      ],
      "metadata": {
        "id": "AgQY3uXw253z"
      },
      "execution_count": null,
      "outputs": []
    }
  ]
}