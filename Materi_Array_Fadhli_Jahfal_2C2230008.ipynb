{
  "nbformat": 4,
  "nbformat_minor": 0,
  "metadata": {
    "colab": {
      "provenance": [],
      "include_colab_link": true
    },
    "kernelspec": {
      "name": "python3",
      "display_name": "Python 3"
    },
    "language_info": {
      "name": "python"
    }
  },
  "cells": [
    {
      "cell_type": "markdown",
      "metadata": {
        "id": "view-in-github",
        "colab_type": "text"
      },
      "source": [
        "<a href=\"https://colab.research.google.com/github/fadhlijahfal1/SD2104-Pemrograman-Lanjut-/blob/main/Materi_Array_Fadhli_Jahfal_2C2230008.ipynb\" target=\"_parent\"><img src=\"https://colab.research.google.com/assets/colab-badge.svg\" alt=\"Open In Colab\"/></a>"
      ]
    },
    {
      "cell_type": "markdown",
      "source": [
        "#**🖥️👩🏻‍💻PRAKTIKUM PEMROGRAMAN LANJUT🔥**\n",
        "##**Pertemuan (3) Array - Senin, 27 Oktober 2024**\n",
        "\n",
        "👤 Nama: FADHLI JAHFAL AUFA MAULANA / NRP: 2C2230008 / Kelas: III/A Sains Data\n",
        "\n",
        "Materi Array :\n",
        "\n",
        "1.1. Definisi Array\n",
        "\n",
        "Array adalah variabel dengan satu buah nama, tetapi mengandung banyak nilai. Akses nilainilainya dilakukan dengan indeks\n",
        "\n",
        "1.2.Deklarasi Array\n",
        "\n",
        "Contoh deklarasi array:\n",
        "\n",
        "x = [0 for i in range(n)] membuat array berukuran n dengan isi 0.\n",
        "\n",
        "x = [\"\"for i in range(100)] membuat array berukuran 100 dengan isi karakter \"\".\n",
        "\n",
        "1.3. Array dan Variabel\n",
        "\n",
        "Suatu array dapat kita anggap sebagai variabel, sehingga segala jenis operasi pada variabel juga berlaku pada array\n",
        "\n",
        "1.4.String\n",
        "\n",
        "String dapat dianggap sebagai array of character, namun tipe data string memiliki karakteristik yang berbeda dengan array of character yaitu string merupakan tipe data immutable. Artinya, string tidak dapat diubah nilainya setelah dideklarasikan.\n",
        "\n"
      ],
      "metadata": {
        "id": "_bN6_LxQCJZT"
      }
    },
    {
      "cell_type": "markdown",
      "source": [
        "#🤸🏻‍♀️ EKSPLORASI PRIBADI DI KELAS ✨"
      ],
      "metadata": {
        "id": "N0U2Qjks8P9F"
      }
    },
    {
      "cell_type": "code",
      "source": [
        "A = [1, 2, 3, 4, 5, 6, 7, 8, 9, 10]\n",
        "\n",
        "A[0] = 1\n",
        "A[3] = 4\n",
        "A[7] = 8\n",
        "\n",
        "print (A[0], A[3], A[7])\n"
      ],
      "metadata": {
        "id": "jB4xESmQzW_T",
        "colab": {
          "base_uri": "https://localhost:8080/"
        },
        "outputId": "41d7242e-1a42-4139-a7ff-ebcbf42888eb"
      },
      "execution_count": null,
      "outputs": [
        {
          "output_type": "stream",
          "name": "stdout",
          "text": [
            "1 4 8\n"
          ]
        }
      ]
    },
    {
      "cell_type": "code",
      "source": [
        "n = int(input())\n",
        "x = [0 for i in range(n)]\n",
        "\n",
        "for i in range(n):\n",
        "  x[i] = i + 1\n",
        "\n",
        "print(x)"
      ],
      "metadata": {
        "colab": {
          "base_uri": "https://localhost:8080/"
        },
        "id": "i-fIY7CHMuKN",
        "outputId": "e1fdfaca-a66b-483e-8faa-df7d95cafa94"
      },
      "execution_count": null,
      "outputs": [
        {
          "output_type": "stream",
          "name": "stdout",
          "text": [
            "100\n",
            "[1, 2, 3, 4, 5, 6, 7, 8, 9, 10, 11, 12, 13, 14, 15, 16, 17, 18, 19, 20, 21, 22, 23, 24, 25, 26, 27, 28, 29, 30, 31, 32, 33, 34, 35, 36, 37, 38, 39, 40, 41, 42, 43, 44, 45, 46, 47, 48, 49, 50, 51, 52, 53, 54, 55, 56, 57, 58, 59, 60, 61, 62, 63, 64, 65, 66, 67, 68, 69, 70, 71, 72, 73, 74, 75, 76, 77, 78, 79, 80, 81, 82, 83, 84, 85, 86, 87, 88, 89, 90, 91, 92, 93, 94, 95, 96, 97, 98, 99, 100]\n"
          ]
        }
      ]
    },
    {
      "cell_type": "code",
      "source": [
        "s1 = \"Hello\"\n",
        "s2 = ['H', 'e', 'l', 'l', 'o']\n",
        "\n",
        "print(s1[0])\n",
        "print(s2[4])"
      ],
      "metadata": {
        "colab": {
          "base_uri": "https://localhost:8080/"
        },
        "id": "Eji0cfFnNvtD",
        "outputId": "1440837f-86d7-4bb9-86a4-5f29c2056fce"
      },
      "execution_count": null,
      "outputs": [
        {
          "output_type": "stream",
          "name": "stdout",
          "text": [
            "H\n",
            "o\n"
          ]
        }
      ]
    },
    {
      "cell_type": "code",
      "source": [
        "mobil = [\"Ford\", \"Volvo\", \"BMW\"]\n",
        "\n",
        "print(mobil)"
      ],
      "metadata": {
        "colab": {
          "base_uri": "https://localhost:8080/"
        },
        "id": "ZyThDJMXTBUD",
        "outputId": "54e344db-8754-4eb8-e24b-cf9b4cab887f"
      },
      "execution_count": null,
      "outputs": [
        {
          "output_type": "stream",
          "name": "stdout",
          "text": [
            "['Ford', 'Volvo', 'BMW']\n"
          ]
        }
      ]
    },
    {
      "cell_type": "code",
      "source": [
        "mobil = [\"Ford\", \"Volvo\", \"BMW\"]\n",
        "mobil[2] = \"Toyota\"\n",
        "\n",
        "print(mobil)"
      ],
      "metadata": {
        "colab": {
          "base_uri": "https://localhost:8080/"
        },
        "id": "GVbxwGtKTQSg",
        "outputId": "2df1b23a-0b04-47d2-a1c9-f4757fba9177"
      },
      "execution_count": null,
      "outputs": [
        {
          "output_type": "stream",
          "name": "stdout",
          "text": [
            "['Ford', 'Volvo', 'Toyota']\n"
          ]
        }
      ]
    },
    {
      "cell_type": "markdown",
      "source": [
        "**2. Mengakses Elemen Array**"
      ],
      "metadata": {
        "id": "3W0n65cMTnLX"
      }
    },
    {
      "cell_type": "code",
      "source": [
        "buah = [\"apel\", \"jeruk\", \"mangga\"]\n",
        "p = buah[2]\n",
        "\n",
        "print(p)"
      ],
      "metadata": {
        "colab": {
          "base_uri": "https://localhost:8080/"
        },
        "id": "vNB3Jl2ETab4",
        "outputId": "15cd833c-f552-45de-8d45-2a8702407f4f"
      },
      "execution_count": null,
      "outputs": [
        {
          "output_type": "stream",
          "name": "stdout",
          "text": [
            "mangga\n"
          ]
        }
      ]
    },
    {
      "cell_type": "markdown",
      "source": [
        "**3. Panjang Sebuah Array**"
      ],
      "metadata": {
        "id": "lOjJQKCDUDHZ"
      }
    },
    {
      "cell_type": "code",
      "source": [
        "cars = [\"Ford\", \"Volvo\", \"BMW\"]\n",
        "x = len(cars)\n",
        "print(x)"
      ],
      "metadata": {
        "colab": {
          "base_uri": "https://localhost:8080/"
        },
        "id": "3Vrj08AIUL2D",
        "outputId": "2ff933b8-eb73-43a8-f795-e0f2c870db4b"
      },
      "execution_count": null,
      "outputs": [
        {
          "output_type": "stream",
          "name": "stdout",
          "text": [
            "3\n"
          ]
        }
      ]
    },
    {
      "cell_type": "markdown",
      "source": [
        "**4. Elemen Perulangan Array**"
      ],
      "metadata": {
        "id": "HG0RxS6-VLVs"
      }
    },
    {
      "cell_type": "code",
      "source": [
        "cars = [\"Ford\", \"Volvo\", \"BMW\"]\n",
        "\n",
        "for x in cars:\n",
        "  print(x)"
      ],
      "metadata": {
        "colab": {
          "base_uri": "https://localhost:8080/"
        },
        "id": "buaSnYBeVRA6",
        "outputId": "62c8fd6f-9601-465b-b07d-c298f4f92458"
      },
      "execution_count": null,
      "outputs": [
        {
          "output_type": "stream",
          "name": "stdout",
          "text": [
            "Ford\n",
            "Volvo\n",
            "BMW\n"
          ]
        }
      ]
    },
    {
      "cell_type": "markdown",
      "source": [
        "**5. Menambahkan Elemen Array**\n",
        "\n",
        "Menggunakan .append(\"\")"
      ],
      "metadata": {
        "id": "1ruKqkfIVZTb"
      }
    },
    {
      "cell_type": "code",
      "source": [
        "cars = [\"Ford\", \"Volvo\", \"BMW\"]\n",
        "cars.append(\"Honda\")\n",
        "print(cars)"
      ],
      "metadata": {
        "colab": {
          "base_uri": "https://localhost:8080/"
        },
        "id": "VUEqlG1fVdf3",
        "outputId": "e0977293-ab99-4f24-caf6-1e8296c9a1be"
      },
      "execution_count": null,
      "outputs": [
        {
          "output_type": "stream",
          "name": "stdout",
          "text": [
            "['Ford', 'Volvo', 'BMW', 'Honda']\n"
          ]
        }
      ]
    },
    {
      "cell_type": "markdown",
      "source": [
        "**6. Menghapus Elemen Array**"
      ],
      "metadata": {
        "id": "j2mXDp0TV5RC"
      }
    },
    {
      "cell_type": "code",
      "source": [
        "cars = [\"Ford\", \"Volvo\", \"BMW\"]\n",
        "cars.pop(1) #dengan .pop()\n",
        "print(cars)"
      ],
      "metadata": {
        "colab": {
          "base_uri": "https://localhost:8080/"
        },
        "id": "prYNTtpLV-cS",
        "outputId": "2fe0f43f-4d12-4e5b-9a9d-d16b8694c384"
      },
      "execution_count": null,
      "outputs": [
        {
          "output_type": "stream",
          "name": "stdout",
          "text": [
            "['Ford', 'BMW']\n"
          ]
        }
      ]
    },
    {
      "cell_type": "code",
      "source": [
        "cars = [\"Ford\", \"Volvo\", \"BMW\"]\n",
        "cars.remove(\"Volvo\") #dengan .remove()\n",
        "print(cars)"
      ],
      "metadata": {
        "colab": {
          "base_uri": "https://localhost:8080/"
        },
        "id": "MVZvNTOhWXOA",
        "outputId": "a940986d-5f91-4329-e6c6-2b9dc684ee1f"
      },
      "execution_count": null,
      "outputs": [
        {
          "output_type": "stream",
          "name": "stdout",
          "text": [
            "['Ford', 'BMW']\n"
          ]
        }
      ]
    },
    {
      "cell_type": "markdown",
      "source": [
        "#🧠 LATIHAN SOAL DI KELAS ⏱️"
      ],
      "metadata": {
        "id": "KEGjH0_P9D1-"
      }
    },
    {
      "cell_type": "markdown",
      "source": [
        "**Soal 1**"
      ],
      "metadata": {
        "id": "jLcYOMjWSVFH"
      }
    },
    {
      "cell_type": "markdown",
      "source": [
        "1. Buatlah program yang menerima N buah bilangan dan menuliskan kembali bilangan-bilangan tersebut, namun dengan urutan terbalik"
      ],
      "metadata": {
        "id": "66tz-tabZZoh"
      }
    },
    {
      "cell_type": "code",
      "source": [
        "n = int(input(\"Masukkan jumlah bilangan: \"))\n",
        "bilangan = []\n",
        "\n",
        "for i in range(n):\n",
        "    bilangan.append(int(input(f\"Masukkan bilangan ke-{i+1}: \")))\n",
        "\n",
        "print(\"Bilangan yang dimasukkan dalam urutan terbalik:\")\n",
        "bilangan.reverse()\n",
        "print(bilangan)"
      ],
      "metadata": {
        "colab": {
          "base_uri": "https://localhost:8080/"
        },
        "id": "9vRqqSAhKaUi",
        "outputId": "88e08404-b4da-43f5-b56e-92f760cfefd0"
      },
      "execution_count": null,
      "outputs": [
        {
          "output_type": "stream",
          "name": "stdout",
          "text": [
            "Masukkan jumlah bilangan: 5\n",
            "Masukkan bilangan ke-1: 5\n",
            "Masukkan bilangan ke-2: 2\n",
            "Masukkan bilangan ke-3: 1\n",
            "Masukkan bilangan ke-4: 6\n",
            "Masukkan bilangan ke-5: 3\n",
            "Bilangan yang dimasukkan dalam urutan terbalik:\n",
            "[3, 6, 1, 2, 5]\n"
          ]
        }
      ]
    },
    {
      "cell_type": "markdown",
      "source": [
        "**Interpretasi Coding**\n",
        "\n",
        "1. `n = int(input(\"Masukkan Jumlah Bilangan: \"))` bertujuan untuk memasukkan bilangan bulat yang akan menentukan jumlah bilangan yang akan diinputkan selanjutnya\n",
        "\n",
        "2. `bilangan = []` bertujuan untuk membuat sebuah list kosong dengan nama bilangan. untuk menyimpan semua bilangan yang diinput\n",
        "\n",
        "3. `for i in range (n):` memulai pengulangan for yang akan berjalan sebanyak n kali. variabel i akan digunakan sebagai indeks untuk mengakses elemen dalam list\n",
        "\n",
        "4. `bilangan.append(int(input(f\"Masukkan Bilangan ke-{i+1}: \"))` mengulang perulangan untuk memasukkan bilangan\n",
        "\n",
        "5. `print(\"Bilangan yang dimasukkan dalam urutan terbalik: \")` bertujuan untuk menginformasikan bahwa bilangan yang ditampilkan terbalik\n",
        "\n",
        "6. `bilangan.reverse()` bertujuan membalik urutan elemen dalam list bilangan\n",
        "\n",
        "7. `print(bilangan)` bertujuan mencerak isi dari list bilangan yang sudah di balik urutannya"
      ],
      "metadata": {
        "id": "RyqmsPIH_xlD"
      }
    },
    {
      "cell_type": "markdown",
      "source": [
        "**Soal 2**"
      ],
      "metadata": {
        "id": "Od6HjmVeSYtK"
      }
    },
    {
      "cell_type": "markdown",
      "source": [
        "2. Diberikan dua array A dan B. Buatlah sebuah program yang dapat memeriksa apakah B merupakan anagram dari A. Asumsikan elemen pada array A dan B maksimal 10. Array B didefinisikan\n",
        "sebagai anagram dari array A bila elemen-elemen di array A dapat ditukar-tukar sehingga menghasilkan\n",
        "array B.\n",
        "\n",
        " Hint: gunakan tabel frekuensi, yakni sebuah array yang indeks ke-1 menunjukkan banyaknya\n",
        "bilangan 1, indeks ke-2 menunjukkan banyaknya bilangan 2, dan seterusnya."
      ],
      "metadata": {
        "id": "pBxbkyhccxRQ"
      }
    },
    {
      "cell_type": "code",
      "source": [
        "def cek_anagram(A, B):\n",
        "    # Jika panjang array berbeda, pasti bukan anagram\n",
        "    if len(A) != len(B):\n",
        "        return False\n",
        "\n",
        "    # Buat tabel frekuensi untuk array A dan B\n",
        "    # Menggunakan list dengan panjang 11 (indeks 0-10) karena elemen maksimal 10\n",
        "    freq_A = [0] * 11\n",
        "    freq_B = [0] * 11\n",
        "\n",
        "    # Hitung frekuensi setiap angka di array A\n",
        "    for num in A:\n",
        "        freq_A[num] += 1\n",
        "\n",
        "    # Hitung frekuensi setiap angka di array B\n",
        "    for num in B:\n",
        "        freq_B[num] += 1\n",
        "\n",
        "    # Bandingkan tabel frekuensi\n",
        "    # Jika sama, maka B adalah anagram dari A\n",
        "    return freq_A == freq_B\n",
        "\n",
        "# Input array A\n",
        "n = int(input(\"Masukkan banyaknya elemen A: \"))\n",
        "A = []\n",
        "for i in range(n):\n",
        "    elem = int(input(f\"Masukkan elemen A ke-{i+1}: \"))\n",
        "    A.append(elem)\n",
        "\n",
        "# Input array B\n",
        "m = int(input(\"Masukkan banyaknya elemen B: \"))\n",
        "B = []\n",
        "for i in range(m):\n",
        "    elem = int(input(f\"Masukkan elemen B ke-{i+1}: \"))\n",
        "    B.append(elem)\n",
        "\n",
        "# Cek dan tampilkan hasil\n",
        "if cek_anagram(A, B):\n",
        "    print(\"B adalah anagram dari A\")\n",
        "else:\n",
        "    print(\"B bukan anagram dari A\")"
      ],
      "metadata": {
        "colab": {
          "base_uri": "https://localhost:8080/"
        },
        "id": "_yL9qVtidIzY",
        "outputId": "694e6ced-fc77-45d4-af89-afdccc9f5bae"
      },
      "execution_count": null,
      "outputs": [
        {
          "output_type": "stream",
          "name": "stdout",
          "text": [
            "Masukkan banyaknya elemen A: 3\n",
            "Masukkan elemen A ke-1:  8\n",
            "Masukkan elemen A ke-2: 4\n",
            "Masukkan elemen A ke-3: 3\n",
            "Masukkan banyaknya elemen B: 3\n",
            "Masukkan elemen B ke-1: 4\n",
            "Masukkan elemen B ke-2: 8\n",
            "Masukkan elemen B ke-3: 3\n",
            "B adalah anagram dari A\n"
          ]
        }
      ]
    },
    {
      "cell_type": "markdown",
      "source": [
        "**Interpretasi Coding**\n",
        "\n",
        "1. `if len(A) != len(B):` bertujuan untuk memeriksa panjang kedua array.\n",
        "\n",
        "2. `freq_A = [0] * 11 ; freq_B = [0] * 11` bertujuan untuk merekam berapa kali angka muncul di masing masing array\n",
        "\n",
        "3. `for num in A: freq_A[num] += 1` menghitung frekuensi dan disimpan ke dalam frekuensi yang sesuai\n",
        "\n",
        "4. `return freq_A == freq_B` membandingkan tabel frekuensi apakah anagram atau bukan\n",
        "\n",
        "5. `m = int(input(\"Masukkan banyaknya elemen B: \"))`input array\n",
        "\n",
        "6. `if cek_anagram(A, B):`cek anagram apakah b sesuai dengan a berarti cetak sebagai anagram, dan sebaliknya"
      ],
      "metadata": {
        "id": "HNuX2SsvSmGj"
      }
    },
    {
      "cell_type": "markdown",
      "source": [
        "**Soal 3**"
      ],
      "metadata": {
        "id": "aF3YculoSb0x"
      }
    },
    {
      "cell_type": "markdown",
      "source": [
        "3. Buatlah program yang menerima sebuah string dan menuliskan apakah string tersebut palindrom.\n",
        "Asumsikan string hanya berisi huruf kecil (a-z). Palindrom"
      ],
      "metadata": {
        "id": "QsBAy6GudYzg"
      }
    },
    {
      "cell_type": "code",
      "source": [
        "# Input panjang string\n",
        "n = int(input(\"Masukkan panjang string: \"))\n",
        "\n",
        "# Input string\n",
        "string = input(\"Masukkan string: \")\n",
        "length = len(string)\n",
        "kondisi = True\n",
        "\n",
        "for i in range(0, length):\n",
        "  if(kondisi):\n",
        "    cmp=length-(i+1)\n",
        "    if string[i] is string[cmp]:\n",
        "      kondisi = True\n",
        "    else:\n",
        "      kondisi = False\n",
        "\n",
        "if(kondisi):\n",
        "  print(\"String tersebut adalah palindrom\")\n",
        "else:\n",
        "  print(\"String tersebut bukan palindrom\")"
      ],
      "metadata": {
        "colab": {
          "base_uri": "https://localhost:8080/"
        },
        "id": "XqekLclzdd0L",
        "outputId": "8f421b07-ccc7-4c92-ad75-85a8bcf44c09"
      },
      "execution_count": null,
      "outputs": [
        {
          "output_type": "stream",
          "name": "stdout",
          "text": [
            "Masukkan panjang string: 5\n",
            "Masukkan string: makan\n",
            "String tersebut bukan palindrom\n"
          ]
        }
      ]
    },
    {
      "cell_type": "markdown",
      "source": [
        "**Interpretasi Coding**\n",
        "\n",
        "1. `n = int(input(\"Masukkan panjang string: \")` adalah bertujuan untuk memasukkan panjang string yang diinginkan\n",
        "\n",
        "2. `string = input(\"Masukkan string: \")` bertujuan untuk meminta pengguna memasukan kata yang ingin di periksa\n",
        "\n",
        "3. `length = len(string)` bertujuan untuk menghitung panjang string\n",
        "\n",
        "4. `kondisi = True` bertujuan untuk mengansumsikan bahwa string adalah palindrom\n",
        "\n",
        "5. `for i in range(0, length):` bertujuan untuk melakukan pengulangan untuk memeriksa setiap karakter dalam string\n",
        "\n",
        "6. `cmp=length-(i+1)` bertujuan untuk menghitung indeks karakter yang berlawanan dengan karakter dalam string\n",
        "\n",
        "7. `if string[i] is string[cmp]:` bertujuan untuk membandingkan karakter pada indeks (i) dengan karakter pada indeks (cmp)\n",
        "\n",
        "8. `else:` bertujuan untuk mengubah kondisi menjadi false apabila pengulangan tidak sesuai"
      ],
      "metadata": {
        "id": "meWCNUY98P3i"
      }
    },
    {
      "cell_type": "markdown",
      "source": [],
      "metadata": {
        "id": "hgTnDy5R8AjL"
      }
    },
    {
      "cell_type": "markdown",
      "source": [
        "📌Catatan:\n",
        "  - Notebook python ini dibuat untuk memudahkan temen-temen belajar ngoding dan pengumpulan tugas.\n",
        "  - Silakan download notebook ini lalu upload di Google Collab milik kalian agar format `pertemuan`, `topik pertemuan`,\n",
        "`tanggal`, `deskripsi pembahasan materi`, `baris coding` dan `interpretasi` bisa disesuaikan dengan kebutuhan teman-teman.\n",
        "\n",
        "  - Interpretasi coding dan hasil dimaksudkan agar teman-teman semakin memahami apa yang dipelajari.\n",
        "\n",
        "  - Deskripsi pembahasan materi dimaksudkan agar teman-teman semakin memahami apa fokus yang dipelajari.\n",
        "\n",
        "  - Tulisan di setiap sebelum baris code disebut `markdown`. Ada beberapa jenis simbol yang memudahkan kepenulisan `markdown` kita, yaitu seperti : untuk mengatur ukuran tulisan biasanya tulisan pada header menggunakan ini`#`, `##`, `###`, untuk membuat pointer menggunakan ini `-`, untuk membuat tulisan ter-highlight menggunakan ini *` `* , untuk short-cut membuat tulisan jadi **bold** gunakan ini `** **`, dan untuk *tulisan miring* gunakan ini `* *` .\n",
        "\n",
        "  - Semangat belajar! 🌟✨\n",
        "\n",
        "©️ LABORATORIUM SAINS DATA 2024"
      ],
      "metadata": {
        "id": "D-tRQnbQK69l"
      }
    }
  ]
}