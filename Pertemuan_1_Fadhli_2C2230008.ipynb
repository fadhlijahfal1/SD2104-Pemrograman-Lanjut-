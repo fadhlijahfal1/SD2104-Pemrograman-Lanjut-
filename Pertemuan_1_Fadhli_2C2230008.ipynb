{
  "nbformat": 4,
  "nbformat_minor": 0,
  "metadata": {
    "colab": {
      "provenance": [],
      "include_colab_link": true
    },
    "kernelspec": {
      "name": "python3",
      "display_name": "Python 3"
    },
    "language_info": {
      "name": "python"
    }
  },
  "cells": [
    {
      "cell_type": "markdown",
      "metadata": {
        "id": "view-in-github",
        "colab_type": "text"
      },
      "source": [
        "<a href=\"https://colab.research.google.com/github/fadhlijahfal1/SD2104-Pemrograman-Lanjut-/blob/main/Pertemuan_1_Fadhli_2C2230008.ipynb\" target=\"_parent\"><img src=\"https://colab.research.google.com/assets/colab-badge.svg\" alt=\"Open In Colab\"/></a>"
      ]
    },
    {
      "cell_type": "markdown",
      "source": [
        "#**🖥️👩🏻‍💻PRAKTIKUM PEMROGRAMAN LANJUT🔥**\n",
        "##**Pertemuan (1) Pendahuluan (INPUT,OUTPUT, PERCABANGAN) - Senin, 14 Oktober 2024**\n",
        "\n",
        "👤 Nama: FADHLI JAHFAL AUFA MAULANA / NRP: 2C2230008 / Kelas: III/A Sains Data\n",
        "\n",
        "\n",
        "\n"
      ],
      "metadata": {
        "id": "_bN6_LxQCJZT"
      }
    },
    {
      "cell_type": "markdown",
      "source": [
        "#🤸🏻‍♀️ EKSPLORASI PRIBADI DI KELAS ✨"
      ],
      "metadata": {
        "id": "N0U2Qjks8P9F"
      }
    },
    {
      "cell_type": "code",
      "execution_count": null,
      "metadata": {
        "id": "itmMcxv88OIm"
      },
      "outputs": [],
      "source": []
    },
    {
      "cell_type": "markdown",
      "source": [
        "- Interpretasi coding:\n",
        "\n",
        "- Interpretasi Hasil:"
      ],
      "metadata": {
        "id": "f1J9LJyv9-YC"
      }
    },
    {
      "cell_type": "markdown",
      "source": [
        "#🧠 LATIHAN SOAL DI KELAS ⏱️"
      ],
      "metadata": {
        "id": "KEGjH0_P9D1-"
      }
    },
    {
      "cell_type": "markdown",
      "source": [
        "Problem (1) Kalkulator Sederhana"
      ],
      "metadata": {
        "id": "nt7-fY7s9PgC"
      }
    },
    {
      "cell_type": "code",
      "source": [],
      "metadata": {
        "id": "h7si6sBj9Mr4"
      },
      "execution_count": null,
      "outputs": []
    },
    {
      "cell_type": "markdown",
      "source": [
        "- Interpretasi coding:\n",
        "\n",
        "- Interpretasi Hasil:"
      ],
      "metadata": {
        "id": "Wou8YKfJ9lvY"
      }
    },
    {
      "cell_type": "markdown",
      "source": [
        "Problem (2) Bilangan Ganjil"
      ],
      "metadata": {
        "id": "Eucg6DUK9fgA"
      }
    },
    {
      "cell_type": "code",
      "source": [],
      "metadata": {
        "id": "9uWMEZpP9hlB"
      },
      "execution_count": null,
      "outputs": []
    },
    {
      "cell_type": "markdown",
      "source": [
        "- Interpretasi coding:\n",
        "\n",
        "- Interpretasi Hasil:"
      ],
      "metadata": {
        "id": "fM9Fo97_93Ni"
      }
    },
    {
      "cell_type": "markdown",
      "source": [
        "#🏆 POST TEST 🎯"
      ],
      "metadata": {
        "id": "J_75vTSXKFGE"
      }
    },
    {
      "cell_type": "markdown",
      "source": [
        "**Program ini menjelaskan bagaimana Tuan Ro menentukan barang mana yang harus ditawarkan kepada pembeli.\n",
        "Harga dalam mata uang Variabill dollar dan asumsi keuntungan tiap barang selalu berbeda.**"
      ],
      "metadata": {
        "id": "twhHfrqiKSfV"
      }
    },
    {
      "cell_type": "code",
      "source": [
        "#Input Harga Barang\n",
        "\n",
        "#Harga A\n",
        "harga_awal_a = int(input(\"Masukkan Harga Dasar Barang A: \"))\n",
        "harga_jual_a = int(input(\"Masukkan Harga Jual Barang A: \"))\n",
        "\n",
        "#Harga B\n",
        "harga_awal_b = int(input(\"Masukkan Harga Dasar Barang B: \"))\n",
        "harga_jual_b = int(input(\"Masukkan Harga Jual Barang B: \"))\n",
        "\n",
        "#Harga C\n",
        "harga_awal_c = int(input(\"Masukkan Harga Dasar Barang C: \"))\n",
        "harga_jual_c = int(input(\"Masukkan Harga Jual Barang C: \"))\n",
        "\n",
        "#Menghitung Margin Barang\n",
        "margin_a = (harga_jual_a - harga_awal_a)\n",
        "margin_b = (harga_jual_b - harga_awal_b)\n",
        "margin_c = (harga_jual_c - harga_awal_c)\n",
        "\n",
        "#Menghitung Margin Tertinggi\n",
        "if margin_a > margin_b > margin_c:\n",
        "    barang_tawar = \"A\"\n",
        "elif margin_b > margin_a > margin_c:\n",
        "    barang_tawar = \"B\"\n",
        "else:\n",
        "    barang_tawar = \"C\"\n",
        "\n",
        "#Menampilkan Output\n",
        "print(f\"Barang yang Harus ditawarkan adalah barang: \", barang_tawar)"
      ],
      "metadata": {
        "id": "hOI8Gls9KV05",
        "colab": {
          "base_uri": "https://localhost:8080/"
        },
        "outputId": "1806a45b-0e9e-45fe-c38f-38922bb69ca6"
      },
      "execution_count": 1,
      "outputs": [
        {
          "output_type": "stream",
          "name": "stdout",
          "text": [
            "Masukkan Harga Dasar Barang A: 10\n",
            "Masukkan Harga Jual Barang A: 15\n",
            "Masukkan Harga Dasar Barang B: 10\n",
            "Masukkan Harga Jual Barang B: 12\n",
            "Masukkan Harga Dasar Barang C: 10\n",
            "Masukkan Harga Jual Barang C: 11\n",
            "Barang yang Harus ditawarkan adalah barang:  A\n"
          ]
        }
      ]
    },
    {
      "cell_type": "code",
      "source": [
        "#Input Harga Barang\n",
        "\n",
        "#Harga A\n",
        "harga_awal_a = int(input(\"Masukkan Harga Dasar Barang A: \"))\n",
        "harga_jual_a = int(input(\"Masukkan Harga Jual Barang A: \"))\n",
        "\n",
        "#Harga B\n",
        "harga_awal_b = int(input(\"Masukkan Harga Dasar Barang B: \"))\n",
        "harga_jual_b = int(input(\"Masukkan Harga Jual Barang B: \"))\n",
        "\n",
        "#Harga C\n",
        "harga_awal_c = int(input(\"Masukkan Harga Dasar Barang C: \"))\n",
        "harga_jual_c = int(input(\"Masukkan Harga Jual Barang C: \"))\n",
        "\n",
        "#Menghitung Margin Barang\n",
        "margin_a = (harga_jual_a - harga_awal_a)\n",
        "margin_b = (harga_jual_b - harga_awal_b)\n",
        "margin_c = (harga_jual_c - harga_awal_c)\n",
        "\n",
        "#Menghitung Margin Tertinggi\n",
        "if margin_a > margin_b > margin_c:\n",
        "    barang_tawar = \"A\"\n",
        "elif margin_b > margin_a > margin_c:\n",
        "    barang_tawar = \"B\"\n",
        "else:\n",
        "    barang_tawar = \"C\"\n",
        "\n",
        "#Menampilkan Output\n",
        "print(f\"Barang yang Harus ditawarkan adalah barang: \", barang_tawar)"
      ],
      "metadata": {
        "colab": {
          "base_uri": "https://localhost:8080/"
        },
        "id": "Gt7W6SQr0tG8",
        "outputId": "00cee54e-1cb4-44cc-dcb1-7216038c3aa5"
      },
      "execution_count": 4,
      "outputs": [
        {
          "output_type": "stream",
          "name": "stdout",
          "text": [
            "Masukkan Harga Dasar Barang A: 8\n",
            "Masukkan Harga Jual Barang A: 11\n",
            "Masukkan Harga Dasar Barang B: 7\n",
            "Masukkan Harga Jual Barang B: 12\n",
            "Masukkan Harga Dasar Barang C: 6\n",
            "Masukkan Harga Jual Barang C: 12\n",
            "Barang yang Harus ditawarkan adalah barang:  C\n"
          ]
        }
      ]
    },
    {
      "cell_type": "markdown",
      "source": [
        "**Buatlah program yang menerima 3 digit nim akhir dan menentukan ia berada di kelas berapa!**"
      ],
      "metadata": {
        "id": "KdXM7Xls0Qp2"
      }
    },
    {
      "cell_type": "code",
      "source": [
        "#Input NRP Mahasiswa\n",
        "nrp_mahasiswa = int(input(\"Masukkan Akhiran NRP: \"))\n",
        "\n",
        "#Menentukan Kelas Berdasarkan NRP\n",
        "#Menentukan Nim 1-100\n",
        "if 1 <= nrp_mahasiswa <= 100:\n",
        "    if nrp_mahasiswa % 2 == 0:\n",
        "        ruang_kelas = \"K2\"\n",
        "    else:\n",
        "        ruang_kelas = \"K1\"\n",
        "#Menentukan Nim 101-200\n",
        "elif 101 <= nrp_mahasiswa <= 200:\n",
        "    if nrp_mahasiswa % 2 == 0:\n",
        "        ruang_kelas = \"K4\"\n",
        "    else:\n",
        "        ruang_kelas = \"K3\"\n",
        "#Menentukan Nim 201-300\n",
        "elif 201 <= nrp_mahasiswa <= 300:\n",
        "    if nrp_mahasiswa % 2 == 0:\n",
        "        ruang_kelas = \"K6\"\n",
        "    else:\n",
        "        ruang_kelas = \"K5\"\n",
        "#Menentukan Nim 300 keatas\n",
        "else:\n",
        "    if nrp_mahasiswa % 2 == 0:\n",
        "        ruang_kelas = \"K8\"\n",
        "    else:\n",
        "        ruang_kelas = \"K7\"\n",
        "\n",
        "#Menampilkan Output\n",
        "print(f\"Mahasiswa Masuk ke Kelas: \", ruang_kelas)"
      ],
      "metadata": {
        "colab": {
          "base_uri": "https://localhost:8080/"
        },
        "id": "MUSFeGjS0S3r",
        "outputId": "b5bfc1d4-e5be-491d-9976-eae654343cfb"
      },
      "execution_count": 2,
      "outputs": [
        {
          "output_type": "stream",
          "name": "stdout",
          "text": [
            "Masukkan Akhiran NRP: 121\n",
            "Mahasiswa Masuk ke Kelas:  K3\n"
          ]
        }
      ]
    },
    {
      "cell_type": "code",
      "source": [
        "#Input NRP Mahasiswa\n",
        "nrp_mahasiswa = int(input(\"Masukkan Akhiran NRP: \"))\n",
        "\n",
        "#Menentukan Kelas Berdasarkan NRP\n",
        "#Menentukan Nim 1-100\n",
        "if 1 <= nrp_mahasiswa <= 100:\n",
        "    if nrp_mahasiswa % 2 == 0:\n",
        "        ruang_kelas = \"K2\"\n",
        "    else:\n",
        "        ruang_kelas = \"K1\"\n",
        "#Menentukan Nim 101-200\n",
        "elif 101 <= nrp_mahasiswa <= 200:\n",
        "    if nrp_mahasiswa % 2 == 0:\n",
        "        ruang_kelas = \"K4\"\n",
        "    else:\n",
        "        ruang_kelas = \"K3\"\n",
        "#Menentukan Nim 201-300\n",
        "elif 201 <= nrp_mahasiswa <= 300:\n",
        "    if nrp_mahasiswa % 2 == 0:\n",
        "        ruang_kelas = \"K6\"\n",
        "    else:\n",
        "        ruang_kelas = \"K5\"\n",
        "#Menentukan Nim 300 keatas\n",
        "else:\n",
        "    if nrp_mahasiswa % 2 == 0:\n",
        "        ruang_kelas = \"K8\"\n",
        "    else:\n",
        "        ruang_kelas = \"K7\"\n",
        "\n",
        "#Menampilkan Output\n",
        "print(f\"Mahasiswa Masuk ke Kelas: \", ruang_kelas)"
      ],
      "metadata": {
        "colab": {
          "base_uri": "https://localhost:8080/"
        },
        "id": "eTNrraTV0h5v",
        "outputId": "82367489-ff32-42a8-aee9-7c4b5796a577"
      },
      "execution_count": 3,
      "outputs": [
        {
          "output_type": "stream",
          "name": "stdout",
          "text": [
            "Masukkan Akhiran NRP: 544\n",
            "Mahasiswa Masuk ke Kelas:  K8\n"
          ]
        }
      ]
    },
    {
      "cell_type": "markdown",
      "source": [
        "📌Catatan:\n",
        "  - Notebook python ini dibuat untuk memudahkan temen-temen belajar ngoding dan pengumpulan tugas.\n",
        "  - Silakan download notebook ini lalu upload di Google Collab milik kalian agar format `pertemuan`, `topik pertemuan`,\n",
        "`tanggal`, `deskripsi pembahasan materi`, `baris coding` dan `interpretasi` bisa disesuaikan dengan kebutuhan teman-teman.\n",
        "\n",
        "  - Interpretasi coding dan hasil dimaksudkan agar teman-teman semakin memahami apa yang dipelajari.\n",
        "\n",
        "  - Deskripsi pembahasan materi dimaksudkan agar teman-teman semakin memahami apa fokus yang dipelajari.\n",
        "\n",
        "  - Tulisan di setiap sebelum baris code disebut `markdown`. Ada beberapa jenis simbol yang memudahkan kepenulisan `markdown` kita, yaitu seperti : untuk mengatur ukuran tulisan biasanya tulisan pada header menggunakan ini`#`, `##`, `###`, untuk membuat pointer menggunakan ini `-`, untuk membuat tulisan ter-highlight menggunakan ini *` `* , untuk short-cut membuat tulisan jadi **bold** gunakan ini `** **`, dan untuk *tulisan miring* gunakan ini `* *` .\n",
        "\n",
        "  - Semangat belajar! 🌟✨\n",
        "\n",
        "©️ LABORATORIUM SAINS DATA 2024"
      ],
      "metadata": {
        "id": "D-tRQnbQK69l"
      }
    }
  ]
}