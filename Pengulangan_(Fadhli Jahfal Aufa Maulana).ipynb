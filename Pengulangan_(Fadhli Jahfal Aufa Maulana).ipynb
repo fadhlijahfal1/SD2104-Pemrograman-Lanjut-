{
  "nbformat": 4,
  "nbformat_minor": 0,
  "metadata": {
    "colab": {
      "provenance": [],
      "include_colab_link": true
    },
    "kernelspec": {
      "name": "python3",
      "display_name": "Python 3"
    },
    "language_info": {
      "name": "python"
    }
  },
  "cells": [
    {
      "cell_type": "markdown",
      "metadata": {
        "id": "view-in-github",
        "colab_type": "text"
      },
      "source": [
        "<a href=\"https://colab.research.google.com/github/fadhlijahfal1/SD2104-Pemrograman-Lanjut-/blob/main/Pengulangan_(Fadhli%20Jahfal%20Aufa%20Maulana).ipynb\" target=\"_parent\"><img src=\"https://colab.research.google.com/assets/colab-badge.svg\" alt=\"Open In Colab\"/></a>"
      ]
    },
    {
      "cell_type": "markdown",
      "source": [
        "#**🖥️👩🏻‍💻PRAKTIKUM PEMROGRAMAN LANJUT🔥**\n",
        "##**Pertemuan (2) PENGULANGAN (LOOP) - Senin, 21 Oktober 2024**\n",
        "\n",
        "👤 Nama: FADHLI JAHFAL AUFA MAULANA / NRP: 2C2230008 / Kelas: III/A Sains Data\n",
        "\n",
        "💬Deskripsi Pembahasan Materi Pengulangan:\n",
        "\n",
        "1.1.  Pengulangan (LOOP) 🔂\n",
        "- While Loop 🐋\n",
        "\n",
        "- For Loop\n",
        "\n",
        "1.2. Pengulangan Bersarang ( NESTED LOOP) 🔂🐦‍\n",
        "\n",
        "\n"
      ],
      "metadata": {
        "id": "_bN6_LxQCJZT"
      }
    },
    {
      "cell_type": "markdown",
      "source": [
        "#🤸🏻‍♀️ EKSPLORASI PRIBADI DI KELAS ✨"
      ],
      "metadata": {
        "id": "N0U2Qjks8P9F"
      }
    },
    {
      "cell_type": "code",
      "execution_count": null,
      "metadata": {
        "id": "itmMcxv88OIm"
      },
      "outputs": [],
      "source": [
        "#List\n",
        "my_list = [1, 2, 3, 4, 5]\n",
        "my_list[0] = 10 #List dapat diubah\n",
        "print(my_list) #Hasil outout [10, 2, 3, 4, 5]"
      ]
    },
    {
      "cell_type": "code",
      "source": [
        "#Tuple\n",
        "my_tuple = (1, 2, 3, 4, 5)\n",
        "print(my_tuple) #Tuple tidak bisa di ubah urutannya"
      ],
      "metadata": {
        "id": "ccUYiAl2MIMF"
      },
      "execution_count": null,
      "outputs": []
    },
    {
      "cell_type": "markdown",
      "source": [
        "Pengulangan For Loop"
      ],
      "metadata": {
        "id": "ue7ruHYpWRCz"
      }
    },
    {
      "cell_type": "code",
      "source": [
        "#Pengulangan For Loop\n",
        "var_list = [1,2,3,4,5]\n",
        "for i in var_list:\n",
        "  print(\"i = \", i)"
      ],
      "metadata": {
        "id": "Ed6f16H1MfbX"
      },
      "execution_count": null,
      "outputs": []
    },
    {
      "cell_type": "code",
      "source": [
        "huruf = \"Fadhli Jahfal\"\n",
        "for i in huruf:\n",
        "  print(i)"
      ],
      "metadata": {
        "id": "kVpD1gokOJ23"
      },
      "execution_count": null,
      "outputs": []
    },
    {
      "cell_type": "code",
      "source": [
        "for i in range(10): #(0,10,1) ARTINYA (START,STOP,STEP)\n",
        "  print(i)"
      ],
      "metadata": {
        "id": "Q7GeyTIoOY5l"
      },
      "execution_count": null,
      "outputs": []
    },
    {
      "cell_type": "code",
      "source": [
        "#Perulangan dengan range yang benar\n",
        "for i in range(1,10,2):\n",
        "  print(i)"
      ],
      "metadata": {
        "id": "isDGuw7zO08s"
      },
      "execution_count": null,
      "outputs": []
    },
    {
      "cell_type": "code",
      "source": [
        "for i in range (1000):\n",
        "  print(\"Hello World\")"
      ],
      "metadata": {
        "id": "U1e2cEusQCBn"
      },
      "execution_count": null,
      "outputs": []
    },
    {
      "cell_type": "code",
      "source": [
        "for i in range (2, 5, 1):\n",
        "  print(i)"
      ],
      "metadata": {
        "id": "o5ewIG0pQdlm"
      },
      "execution_count": null,
      "outputs": []
    },
    {
      "cell_type": "code",
      "source": [
        "for i in range (7, 2, -1):\n",
        "  print(i)"
      ],
      "metadata": {
        "id": "EjBTYoNdSGRK"
      },
      "execution_count": null,
      "outputs": []
    },
    {
      "cell_type": "code",
      "source": [
        "a = int(input())\n",
        "b = int(input())\n",
        "\n",
        "for i in range (a, b+1):\n",
        "  print(i)"
      ],
      "metadata": {
        "id": "CCFZ285bSr1Q"
      },
      "execution_count": null,
      "outputs": []
    },
    {
      "cell_type": "markdown",
      "source": [
        "Pengulangan While - Loop"
      ],
      "metadata": {
        "id": "1kEnwAC8WLY5"
      }
    },
    {
      "cell_type": "code",
      "source": [
        "#Pengulangan While - Loop\n",
        "\n",
        "counter = 1\n",
        "while counter <= 5:\n",
        "  print(\"counter = \", counter)\n",
        "  counter += 1"
      ],
      "metadata": {
        "id": "9TC3_xQOTyO2"
      },
      "execution_count": null,
      "outputs": []
    },
    {
      "cell_type": "code",
      "source": [
        "a = int(input())\n",
        "b = int(input())\n",
        "i = a\n",
        "while (i <= b):\n",
        "  print(i)\n",
        "  i += 2"
      ],
      "metadata": {
        "id": "gd4VZKZuUJ8S"
      },
      "execution_count": null,
      "outputs": []
    },
    {
      "cell_type": "markdown",
      "source": [
        "Nested Loop"
      ],
      "metadata": {
        "id": "RvTwzJ6GWHG9"
      }
    },
    {
      "cell_type": "code",
      "source": [
        "n = int(input())\n",
        "\n",
        "for i in range(n):\n",
        "  for j in range(n):\n",
        "    print(\"*\", end=\"\")"
      ],
      "metadata": {
        "id": "FTT9aZTwWI44"
      },
      "execution_count": null,
      "outputs": []
    },
    {
      "cell_type": "markdown",
      "source": [
        "Latihan Soal"
      ],
      "metadata": {
        "id": "GRtYmPtEa6O2"
      }
    },
    {
      "cell_type": "code",
      "source": [
        "#Kelipatan Terdekat\n",
        "\n",
        "N = int(input(\"Masukkan N : \"))\n",
        "\n",
        "i = N + 1\n",
        "while i % 5 != 0:\n",
        "  i += 1\n",
        "\n",
        "print(\"Output: \", i)"
      ],
      "metadata": {
        "id": "W6L_dUlYZiAs"
      },
      "execution_count": null,
      "outputs": []
    },
    {
      "cell_type": "code",
      "source": [
        "#Segitiga Bintang\n",
        "\n",
        "N = int(input(\"Masukkan N : \"))\n",
        "\n",
        "for i in range (1, N+1):\n",
        "  print(\"*\" * i)"
      ],
      "metadata": {
        "id": "NGwcEHk8aBEC"
      },
      "execution_count": null,
      "outputs": []
    },
    {
      "cell_type": "code",
      "source": [
        "# Urutan Kebawah\n",
        "\n",
        "N = int(input(\"Masukkan N : \"))\n",
        "\n",
        "for i in range (N, 0, -1):\n",
        "  for i in range (1, i+1):\n",
        "    print(i, end=\"\")\n",
        "  print()"
      ],
      "metadata": {
        "id": "rpLMgsymajDn"
      },
      "execution_count": null,
      "outputs": []
    },
    {
      "cell_type": "code",
      "source": [
        "# Kelipatan 2&3\n",
        "\n",
        "N = int(input(\"Masukkan N : \"))\n",
        "\n",
        "#Loop dari 1 hingga N\n",
        "for i in range (1, N+1):\n",
        "  if i % 2 == 0 and i % 3 == 0:\n",
        "    print(\"DuaTiga\", end=\" \")\n",
        "  elif i % 2 == 0:\n",
        "    print(\"Dua\", end=\" \")\n",
        "  elif i % 3 == 0:\n",
        "    print(\"Tiga\", end=\" \")\n",
        "  else:\n",
        "    print(i, end=\"\")\n",
        "print()"
      ],
      "metadata": {
        "id": "MdLezyf1bAEG"
      },
      "execution_count": null,
      "outputs": []
    },
    {
      "cell_type": "markdown",
      "source": [
        "- Interpretasi coding:\n",
        "\n",
        "- Interpretasi Hasil:"
      ],
      "metadata": {
        "id": "f1J9LJyv9-YC"
      }
    },
    {
      "cell_type": "markdown",
      "source": [
        "#🧠 LATIHAN SOAL DI KELAS ⏱️"
      ],
      "metadata": {
        "id": "KEGjH0_P9D1-"
      }
    },
    {
      "cell_type": "markdown",
      "source": [
        "Problem (1) Kalkulator Sederhana"
      ],
      "metadata": {
        "id": "nt7-fY7s9PgC"
      }
    },
    {
      "cell_type": "code",
      "source": [
        "hasil = 0\n",
        "loop = \"iya\"\n",
        "\n",
        "while loop == \"iya\":\n",
        "  angka1 = float(input(\"Masukkan angka pertama: \"))\n",
        "  angka2 = float(input(\"Masukkan angka kedua: \"))\n",
        "  operator = input(\"Masukkan operator: \")\n",
        "  #Penjumlahan\n",
        "  if operator == \"+\":\n",
        "    hasil = angka1 + angka2\n",
        "  #Pengurangan\n",
        "  elif operator == \"-\":\n",
        "    hasil = angka1 - angka2\n",
        "  #Perkalian\n",
        "  elif operator == \"x\":\n",
        "    hasil = angka1 * angka2\n",
        "  #Pembagian\n",
        "  elif operator == \"/\":\n",
        "    hasil = angka1 / angka2\n",
        "  #Ketika Tidak Valid\n",
        "  else:\n",
        "    print(\"Perhitungan Tidak Valid\")\n",
        "  #Hasil\n",
        "  print(\"Hasil : \", hasil)\n",
        "  print()\n",
        "  loop = str(input(\"Ulangi ? (iya/tidak) : \"))"
      ],
      "metadata": {
        "id": "h7si6sBj9Mr4"
      },
      "execution_count": null,
      "outputs": []
    },
    {
      "cell_type": "markdown",
      "source": [
        "- Interpretasi coding:\n",
        "\n",
        "- Interpretasi Hasil:"
      ],
      "metadata": {
        "id": "Wou8YKfJ9lvY"
      }
    },
    {
      "cell_type": "markdown",
      "source": [
        "Problem (2) Bilangan Ganjil"
      ],
      "metadata": {
        "id": "Eucg6DUK9fgA"
      }
    },
    {
      "cell_type": "code",
      "source": [
        "awal = int(input(\"Masukkan angka awal: \"))\n",
        "akhir = int(input(\"Masukkan angka akhir: \"))\n",
        "x = []\n",
        "y = []\n",
        "\n",
        "for i in range (awal, akhir+1):\n",
        "  if i % 2 == 0:\n",
        "    x.append(i)\n",
        "  else:\n",
        "    y.append(i)\n",
        "\n",
        "print(\"Bilangan Ganjil: \", y)\n",
        "print(\"Bilangan Genap: \", x)"
      ],
      "metadata": {
        "id": "9uWMEZpP9hlB"
      },
      "execution_count": null,
      "outputs": []
    },
    {
      "cell_type": "markdown",
      "source": [
        "- Interpretasi coding:\n",
        "\n",
        "- Interpretasi Hasil:"
      ],
      "metadata": {
        "id": "fM9Fo97_93Ni"
      }
    },
    {
      "cell_type": "markdown",
      "source": [
        "#🏆 POST TEST 🎯"
      ],
      "metadata": {
        "id": "J_75vTSXKFGE"
      }
    },
    {
      "cell_type": "markdown",
      "source": [
        "Problem (1)"
      ],
      "metadata": {
        "id": "twhHfrqiKSfV"
      }
    },
    {
      "cell_type": "code",
      "source": [],
      "metadata": {
        "id": "hOI8Gls9KV05"
      },
      "execution_count": null,
      "outputs": []
    },
    {
      "cell_type": "markdown",
      "source": [
        "- Interpretasi coding:\n",
        "- Interpretasi hasil:"
      ],
      "metadata": {
        "id": "t9x---59KWVI"
      }
    },
    {
      "cell_type": "markdown",
      "source": [
        "📌Catatan:\n",
        "  - Notebook python ini dibuat untuk memudahkan temen-temen belajar ngoding dan pengumpulan tugas.\n",
        "  - Silakan download notebook ini lalu upload di Google Collab milik kalian agar format `pertemuan`, `topik pertemuan`,\n",
        "`tanggal`, `deskripsi pembahasan materi`, `baris coding` dan `interpretasi` bisa disesuaikan dengan kebutuhan teman-teman.\n",
        "\n",
        "  - Interpretasi coding dan hasil dimaksudkan agar teman-teman semakin memahami apa yang dipelajari.\n",
        "\n",
        "  - Deskripsi pembahasan materi dimaksudkan agar teman-teman semakin memahami apa fokus yang dipelajari.\n",
        "\n",
        "  - Tulisan di setiap sebelum baris code disebut `markdown`. Ada beberapa jenis simbol yang memudahkan kepenulisan `markdown` kita, yaitu seperti : untuk mengatur ukuran tulisan biasanya tulisan pada header menggunakan ini`#`, `##`, `###`, untuk membuat pointer menggunakan ini `-`, untuk membuat tulisan ter-highlight menggunakan ini *` `* , untuk short-cut membuat tulisan jadi **bold** gunakan ini `** **`, dan untuk *tulisan miring* gunakan ini `* *` .\n",
        "\n",
        "  - Semangat belajar! 🌟✨\n",
        "\n",
        "©️ LABORATORIUM SAINS DATA 2024"
      ],
      "metadata": {
        "id": "D-tRQnbQK69l"
      }
    }
  ]
}